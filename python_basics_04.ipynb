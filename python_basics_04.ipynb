{
  "nbformat": 4,
  "nbformat_minor": 0,
  "metadata": {
    "colab": {
      "provenance": []
    },
    "kernelspec": {
      "name": "python3",
      "display_name": "Python 3"
    },
    "language_info": {
      "name": "python"
    }
  },
  "cells": [
    {
      "cell_type": "markdown",
      "source": [
        "\n",
        "\n"
      ],
      "metadata": {
        "id": "1ogZV4xl1Vv1"
      }
    },
    {
      "cell_type": "code",
      "source": [
        "print(l2)"
      ],
      "metadata": {
        "colab": {
          "base_uri": "https://localhost:8080/"
        },
        "id": "bQLSfxRi6zfN",
        "outputId": "0a2a5d97-0722-41f4-ed35-7eafba69644c"
      },
      "execution_count": null,
      "outputs": [
        {
          "output_type": "stream",
          "name": "stdout",
          "text": [
            "[0, 1, 2, 3, 4, 5, 6, 7, 8, 9]\n"
          ]
        }
      ]
    },
    {
      "cell_type": "code",
      "source": [],
      "metadata": {
        "id": "GHeGoyWhG05F"
      },
      "execution_count": null,
      "outputs": []
    },
    {
      "cell_type": "code",
      "source": [
        "# l1 = [0,1,2,3,4,5,6,7,8,9]\n",
        "l2 = []\n",
        "for i in range(0,10):\n",
        "  l2.append(i)\n",
        "print (l2)"
      ],
      "metadata": {
        "colab": {
          "base_uri": "https://localhost:8080/"
        },
        "id": "Eb1ehWSL1y8w",
        "outputId": "f3c3b550-9dfc-41eb-eeb2-3c4d765a5bd2"
      },
      "execution_count": null,
      "outputs": [
        {
          "output_type": "stream",
          "name": "stdout",
          "text": [
            "[0, 1, 2, 3, 4, 5, 6, 7, 8, 9]\n"
          ]
        }
      ]
    },
    {
      "cell_type": "code",
      "source": [
        "print(l2)"
      ],
      "metadata": {
        "colab": {
          "base_uri": "https://localhost:8080/"
        },
        "id": "PildUyrc7CTI",
        "outputId": "0b691f2e-2838-45e8-82be-bdb4c80ea2ae"
      },
      "execution_count": null,
      "outputs": [
        {
          "output_type": "stream",
          "name": "stdout",
          "text": [
            "[0, 1, 2, 3, 4, 5, 6, 7, 8, 9]\n"
          ]
        }
      ]
    },
    {
      "cell_type": "code",
      "source": [
        "a= 'new'\n",
        "b= 'delhi'\n",
        "a+' '+b"
      ],
      "metadata": {
        "colab": {
          "base_uri": "https://localhost:8080/",
          "height": 36
        },
        "id": "QAy0kncxG3bd",
        "outputId": "b6121a8b-b0aa-4924-ae59-253726e0898a"
      },
      "execution_count": null,
      "outputs": [
        {
          "output_type": "execute_result",
          "data": {
            "text/plain": [
              "'new delhi'"
            ],
            "application/vnd.google.colaboratory.intrinsic+json": {
              "type": "string"
            }
          },
          "metadata": {},
          "execution_count": 9
        }
      ]
    },
    {
      "cell_type": "code",
      "source": [
        "m = 'capital of india is delhi'\n",
        "'india'in m"
      ],
      "metadata": {
        "colab": {
          "base_uri": "https://localhost:8080/"
        },
        "id": "FHGNN9_oFLZ9",
        "outputId": "8eadf390-9288-404b-9b0c-231c2afb8a33"
      },
      "execution_count": null,
      "outputs": [
        {
          "output_type": "execute_result",
          "data": {
            "text/plain": [
              "True"
            ]
          },
          "metadata": {},
          "execution_count": 15
        }
      ]
    },
    {
      "cell_type": "code",
      "source": [
        "a=new"
      ],
      "metadata": {
        "id": "1rsgV1EXFGw4"
      },
      "execution_count": null,
      "outputs": []
    },
    {
      "cell_type": "code",
      "source": [
        "x<y"
      ],
      "metadata": {
        "colab": {
          "base_uri": "https://localhost:8080/"
        },
        "id": "sP4sDAXaIMa_",
        "outputId": "4901f00a-d7c0-44b7-fddc-2b64f3dca7ad"
      },
      "execution_count": null,
      "outputs": [
        {
          "output_type": "execute_result",
          "data": {
            "text/plain": [
              "True"
            ]
          },
          "metadata": {},
          "execution_count": 11
        }
      ]
    },
    {
      "cell_type": "code",
      "source": [
        "l1 = [0,1,2,3,4,5,6,7,8,9]\n",
        "l2 = []\n",
        "for i in range(0,10):\n",
        "   l2.append(i)\n",
        "print (l2)"
      ],
      "metadata": {
        "id": "MUjOrAy78bCN",
        "colab": {
          "base_uri": "https://localhost:8080/"
        },
        "outputId": "8c14aae4-d7c3-4adf-9a63-9fd1ddf1a66e"
      },
      "execution_count": null,
      "outputs": [
        {
          "output_type": "stream",
          "name": "stdout",
          "text": [
            "[0, 1, 2, 3, 4, 5, 6, 7, 8, 9]\n"
          ]
        }
      ]
    },
    {
      "cell_type": "code",
      "source": [
        "x= '200'\n",
        "y= '33'\n",
        "x>y"
      ],
      "metadata": {
        "colab": {
          "base_uri": "https://localhost:8080/"
        },
        "id": "GavGJfFuHSAC",
        "outputId": "24ed2f18-78da-4bcb-d32c-30895f13fd2e"
      },
      "execution_count": null,
      "outputs": [
        {
          "output_type": "execute_result",
          "data": {
            "text/plain": [
              "False"
            ]
          },
          "metadata": {},
          "execution_count": 10
        }
      ]
    },
    {
      "cell_type": "code",
      "source": [
        "if (x>y):\n",
        "  print('x is greaten than y')\n",
        "else:\n",
        "    print('x is less than y')"
      ],
      "metadata": {
        "colab": {
          "base_uri": "https://localhost:8080/"
        },
        "id": "RsH3QpwcIcfo",
        "outputId": "9bc1b2f5-dbbf-4e7a-cb5b-4441f1148247"
      },
      "execution_count": null,
      "outputs": [
        {
          "output_type": "stream",
          "name": "stdout",
          "text": [
            "x is less than y\n"
          ]
        }
      ]
    },
    {
      "cell_type": "code",
      "source": [
        "x= 'cats come from tiger family'\n",
        "str(x)"
      ],
      "metadata": {
        "colab": {
          "base_uri": "https://localhost:8080/",
          "height": 36
        },
        "id": "tqVQSIR-Jr28",
        "outputId": "2c94a104-b2ab-455a-c721-447a5f5b3fc4"
      },
      "execution_count": null,
      "outputs": [
        {
          "output_type": "execute_result",
          "data": {
            "text/plain": [
              "'cats come from tiger family'"
            ],
            "application/vnd.google.colaboratory.intrinsic+json": {
              "type": "string"
            }
          },
          "metadata": {},
          "execution_count": 18
        }
      ]
    },
    {
      "cell_type": "code",
      "source": [
        "'tiger' in x"
      ],
      "metadata": {
        "colab": {
          "base_uri": "https://localhost:8080/"
        },
        "id": "fM9DWNmHKHvK",
        "outputId": "b6a51622-cde8-42d3-e110-7d08429a7e6a"
      },
      "execution_count": null,
      "outputs": [
        {
          "output_type": "execute_result",
          "data": {
            "text/plain": [
              "True"
            ]
          },
          "metadata": {},
          "execution_count": 19
        }
      ]
    },
    {
      "cell_type": "code",
      "source": [
        "x.upper()"
      ],
      "metadata": {
        "colab": {
          "base_uri": "https://localhost:8080/",
          "height": 36
        },
        "id": "uNQwqx20Kc3H",
        "outputId": "fc1dd923-41d4-4a24-d134-3ddf7692842e"
      },
      "execution_count": null,
      "outputs": [
        {
          "output_type": "execute_result",
          "data": {
            "text/plain": [
              "'CATS COME FROM TIGER FAMILY'"
            ],
            "application/vnd.google.colaboratory.intrinsic+json": {
              "type": "string"
            }
          },
          "metadata": {},
          "execution_count": 20
        }
      ]
    },
    {
      "cell_type": "code",
      "source": [
        "x.lower()"
      ],
      "metadata": {
        "colab": {
          "base_uri": "https://localhost:8080/",
          "height": 36
        },
        "id": "l5Gmt_YMKhyM",
        "outputId": "7f77a234-b75d-49c3-b1a1-9ca6fd7cae16"
      },
      "execution_count": null,
      "outputs": [
        {
          "output_type": "execute_result",
          "data": {
            "text/plain": [
              "'cats come from tiger family'"
            ],
            "application/vnd.google.colaboratory.intrinsic+json": {
              "type": "string"
            }
          },
          "metadata": {},
          "execution_count": 21
        }
      ]
    },
    {
      "cell_type": "code",
      "source": [
        "x.split()"
      ],
      "metadata": {
        "colab": {
          "base_uri": "https://localhost:8080/"
        },
        "id": "WEaJMx18KmAo",
        "outputId": "9060b17c-9a8d-4aa9-f154-45ca49c4cbcf"
      },
      "execution_count": null,
      "outputs": [
        {
          "output_type": "execute_result",
          "data": {
            "text/plain": [
              "['cats', 'come', 'from', 'tiger', 'family']"
            ]
          },
          "metadata": {},
          "execution_count": 22
        }
      ]
    },
    {
      "cell_type": "code",
      "source": [
        "x= (1,5,9,6,13)\n",
        "def\n",
        "  print('result')"
      ],
      "metadata": {
        "id": "jIJ1k1flKuaB"
      },
      "execution_count": null,
      "outputs": []
    },
    {
      "cell_type": "code",
      "source": [],
      "metadata": {
        "id": "yyhp6WyjRlBM"
      },
      "execution_count": null,
      "outputs": []
    },
    {
      "cell_type": "code",
      "source": [
        "a= ):\n",
        "  multiplication=a*2\n",
        "  return multiplication"
      ],
      "metadata": {
        "colab": {
          "base_uri": "https://localhost:8080/",
          "height": 140
        },
        "id": "xo7trZejRsfL",
        "outputId": "bc693b9e-4917-41af-d963-74b25d4288db"
      },
      "execution_count": null,
      "outputs": [
        {
          "output_type": "error",
          "ename": "SyntaxError",
          "evalue": "ignored",
          "traceback": [
            "\u001b[0;36m  File \u001b[0;32m\"<ipython-input-37-e7d9aa9dd5e6>\"\u001b[0;36m, line \u001b[0;32m2\u001b[0m\n\u001b[0;31m    def  multiplication(a,2):\u001b[0m\n\u001b[0m                          ^\u001b[0m\n\u001b[0;31mSyntaxError\u001b[0m\u001b[0;31m:\u001b[0m invalid syntax\n"
          ]
        }
      ]
    },
    {
      "cell_type": "code",
      "source": [],
      "metadata": {
        "id": "r8IVtyS8Vzze"
      },
      "execution_count": null,
      "outputs": []
    },
    {
      "cell_type": "code",
      "source": [
        "def summation(a,b):\n",
        "  sum=a+b\n",
        "  return(sum)\n",
        "summation(5,4)"
      ],
      "metadata": {
        "colab": {
          "base_uri": "https://localhost:8080/"
        },
        "id": "2Fq0A3NAKJAd",
        "outputId": "34a6af92-759a-4784-db8c-78fa838747aa"
      },
      "execution_count": null,
      "outputs": [
        {
          "output_type": "execute_result",
          "data": {
            "text/plain": [
              "9"
            ]
          },
          "metadata": {},
          "execution_count": 4
        }
      ]
    },
    {
      "cell_type": "code",
      "source": [
        "#[01]Write a Python program to sum all the items\n",
        "a= [1,7,-10,34,2,-8]\n",
        "sum= 0\n",
        "for i in a :\n",
        "  sum+=i\n",
        "print(sum)\n",
        "\n",
        "\n"
      ],
      "metadata": {
        "colab": {
          "base_uri": "https://localhost:8080/"
        },
        "id": "8g2SUJu3KzWs",
        "outputId": "40bfefd8-78b2-4504-92e5-a78484ff5c02"
      },
      "execution_count": null,
      "outputs": [
        {
          "output_type": "stream",
          "name": "stdout",
          "text": [
            "26\n"
          ]
        }
      ]
    },
    {
      "cell_type": "code",
      "source": [
        "# multiplication of numbers\n",
        "x= '2'\n",
        "y= '3'\n",
        "z= '4'\n",
        "prod=0\n",
        "def multiplication(x,y,z):\n",
        " x=int(x)\n",
        " y=int(y)\n",
        " z=int(z)\n",
        " prod= x*y*z\n",
        " return prod"
      ],
      "metadata": {
        "id": "bLVh1YVjwLeX"
      },
      "execution_count": null,
      "outputs": []
    },
    {
      "cell_type": "code",
      "source": [
        "multiplication(x,y,z)"
      ],
      "metadata": {
        "colab": {
          "base_uri": "https://localhost:8080/"
        },
        "id": "igwKDBoNiWwu",
        "outputId": "c161fddb-14a1-4656-e374-1534c816adf7"
      },
      "execution_count": null,
      "outputs": [
        {
          "output_type": "execute_result",
          "data": {
            "text/plain": [
              "24"
            ]
          },
          "metadata": {},
          "execution_count": 65
        }
      ]
    },
    {
      "cell_type": "code",
      "source": [
        "int(z)"
      ],
      "metadata": {
        "colab": {
          "base_uri": "https://localhost:8080/"
        },
        "id": "VsjBU9YkzZNZ",
        "outputId": "41f6a3ee-ad90-4630-cadb-f8cafacdee35"
      },
      "execution_count": null,
      "outputs": [
        {
          "output_type": "execute_result",
          "data": {
            "text/plain": [
              "4"
            ]
          },
          "metadata": {},
          "execution_count": 21
        }
      ]
    },
    {
      "cell_type": "code",
      "source": [
        "x='2'\n",
        "int(x)"
      ],
      "metadata": {
        "colab": {
          "base_uri": "https://localhost:8080/"
        },
        "id": "-q5Hwoyhie9R",
        "outputId": "e34a4d3b-1266-449d-b11f-2663052ca0d0"
      },
      "execution_count": null,
      "outputs": [
        {
          "output_type": "execute_result",
          "data": {
            "text/plain": [
              "2"
            ]
          },
          "metadata": {},
          "execution_count": 3
        }
      ]
    },
    {
      "cell_type": "code",
      "source": [
        " prod= int(x)*int(y)*int(z)\n",
        " print(prod)"
      ],
      "metadata": {
        "colab": {
          "base_uri": "https://localhost:8080/"
        },
        "id": "RGGLFxHuzczv",
        "outputId": "d29d1b6a-f27f-445e-bc28-c003857ef1d6"
      },
      "execution_count": null,
      "outputs": [
        {
          "output_type": "stream",
          "name": "stdout",
          "text": [
            "24\n"
          ]
        }
      ]
    },
    {
      "cell_type": "code",
      "source": [
        "def summation(a,b):\n",
        " sum= a+b\n",
        " return sum"
      ],
      "metadata": {
        "id": "CtD3Q4oTKFDc"
      },
      "execution_count": null,
      "outputs": []
    },
    {
      "cell_type": "code",
      "source": [
        "summation(5,6)"
      ],
      "metadata": {
        "colab": {
          "base_uri": "https://localhost:8080/"
        },
        "id": "lleBMM_lKkTD",
        "outputId": "a12ab205-b2a2-4ada-928f-5bc245d473ad"
      },
      "execution_count": null,
      "outputs": [
        {
          "output_type": "execute_result",
          "data": {
            "text/plain": [
              "11"
            ]
          },
          "metadata": {},
          "execution_count": 4
        }
      ]
    },
    {
      "cell_type": "code",
      "source": [
        "def multiplication(x,y):\n",
        "  prod= x*y\n",
        "  return prod"
      ],
      "metadata": {
        "id": "SFV31zzRKoOC"
      },
      "execution_count": null,
      "outputs": []
    },
    {
      "cell_type": "code",
      "source": [
        "multiplication(5,7)"
      ],
      "metadata": {
        "colab": {
          "base_uri": "https://localhost:8080/"
        },
        "id": "VAcP3AG6K-xX",
        "outputId": "e9de7eab-e75b-4188-9270-4c40e248156b"
      },
      "execution_count": null,
      "outputs": [
        {
          "output_type": "execute_result",
          "data": {
            "text/plain": [
              "35"
            ]
          },
          "metadata": {},
          "execution_count": 16
        }
      ]
    },
    {
      "cell_type": "code",
      "source": [
        "x= 'manasa'"
      ],
      "metadata": {
        "id": "R8En6YgxLihJ"
      },
      "execution_count": null,
      "outputs": []
    },
    {
      "cell_type": "code",
      "source": [
        "x[0]"
      ],
      "metadata": {
        "colab": {
          "base_uri": "https://localhost:8080/",
          "height": 36
        },
        "id": "IillaQenMFuf",
        "outputId": "4f3bf731-f3d8-44aa-b063-cf8fca0cef25"
      },
      "execution_count": null,
      "outputs": [
        {
          "output_type": "execute_result",
          "data": {
            "text/plain": [
              "'m'"
            ],
            "application/vnd.google.colaboratory.intrinsic+json": {
              "type": "string"
            }
          },
          "metadata": {},
          "execution_count": 19
        }
      ]
    },
    {
      "cell_type": "code",
      "source": [
        "x[0:6]"
      ],
      "metadata": {
        "colab": {
          "base_uri": "https://localhost:8080/",
          "height": 36
        },
        "id": "Lmd9iqObMTvy",
        "outputId": "19e46e1e-e5af-467e-863f-075bf5dab2a3"
      },
      "execution_count": null,
      "outputs": [
        {
          "output_type": "execute_result",
          "data": {
            "text/plain": [
              "'manasa'"
            ],
            "application/vnd.google.colaboratory.intrinsic+json": {
              "type": "string"
            }
          },
          "metadata": {},
          "execution_count": 20
        }
      ]
    },
    {
      "cell_type": "code",
      "source": [
        "a= 'praneeth'\n",
        "b= 'kumar'\n",
        "print(a,b)"
      ],
      "metadata": {
        "colab": {
          "base_uri": "https://localhost:8080/"
        },
        "id": "lCjy1cdPMs-j",
        "outputId": "6897ce56-32f9-4206-8d0f-50113f050efc"
      },
      "execution_count": null,
      "outputs": [
        {
          "output_type": "stream",
          "name": "stdout",
          "text": [
            "praneeth kumar\n"
          ]
        }
      ]
    },
    {
      "cell_type": "code",
      "source": [
        "a= 'python'\n",
        "b= 'is a'\n",
        "c= 'programming'\n",
        "d= 'language'\n",
        "print(a,b,c,d)"
      ],
      "metadata": {
        "colab": {
          "base_uri": "https://localhost:8080/"
        },
        "id": "EPdAtsSxNQ39",
        "outputId": "1e7376ce-f672-4fc2-b0c6-44c6380603c9"
      },
      "execution_count": null,
      "outputs": [
        {
          "output_type": "stream",
          "name": "stdout",
          "text": [
            "python is a programming language\n"
          ]
        }
      ]
    },
    {
      "cell_type": "code",
      "source": [
        "print(a+' '+b+' '+c+' '+d)"
      ],
      "metadata": {
        "colab": {
          "base_uri": "https://localhost:8080/"
        },
        "id": "Rv9dnWBDN9P_",
        "outputId": "70d6b3dd-589b-44b9-a86f-5054d077f342"
      },
      "execution_count": null,
      "outputs": [
        {
          "output_type": "stream",
          "name": "stdout",
          "text": [
            "python is a programming language\n"
          ]
        }
      ]
    },
    {
      "cell_type": "code",
      "source": [
        "from IPython.core.profiledir import ProfileDir\n",
        "x=5\n",
        "print(f'position 1 {x}')\n",
        "def multiplication(x,y):\n",
        "  print(f'position 2 {x}')\n",
        "  z=10\n",
        "  x=40\n",
        "  print(f'position 3 {x}')\n",
        "  prod = x*y*z\n",
        "  return prod\n",
        "print(multiplication(x,6))\n",
        "print(f'position 4 {x}')"
      ],
      "metadata": {
        "colab": {
          "base_uri": "https://localhost:8080/"
        },
        "id": "VXdXTnzsOztW",
        "outputId": "b6296c4f-60e2-4fb8-917f-956b67baa418"
      },
      "execution_count": null,
      "outputs": [
        {
          "output_type": "stream",
          "name": "stdout",
          "text": [
            "position 1 5\n",
            "position 2 5\n",
            "position 3 40\n",
            "2400\n",
            "position 4 5\n"
          ]
        }
      ]
    },
    {
      "cell_type": "code",
      "source": [
        "x = '2'\n",
        "y = '3'\n",
        "z = '4'\n",
        "\n",
        "def multiplication(x,y,z):\n",
        "  x= int(x)\n",
        "  y= int(y)\n",
        "  z= int(z)\n",
        "  prod=x*y*z\n",
        "  return prod"
      ],
      "metadata": {
        "id": "pdEMtIR6RSvt"
      },
      "execution_count": null,
      "outputs": []
    },
    {
      "cell_type": "code",
      "source": [
        " multiplication(x,y,z)"
      ],
      "metadata": {
        "colab": {
          "base_uri": "https://localhost:8080/"
        },
        "id": "y11O1nn9VcZ_",
        "outputId": "d5752df2-cf27-4b52-ddf0-414ac604235c"
      },
      "execution_count": null,
      "outputs": [
        {
          "output_type": "execute_result",
          "data": {
            "text/plain": [
              "24"
            ]
          },
          "metadata": {},
          "execution_count": 63
        }
      ]
    },
    {
      "cell_type": "markdown",
      "source": [
        "y= 'programming'\n",
        "for i in y:\n",
        "  print(i)"
      ],
      "metadata": {
        "id": "I6g8qyQXW2aG"
      }
    },
    {
      "cell_type": "code",
      "source": [
        "y = 'madugulamanasa'\n",
        "for i in range(0,len(y)):\n",
        "  print(i)\n",
        "  print(y[i])"
      ],
      "metadata": {
        "colab": {
          "base_uri": "https://localhost:8080/"
        },
        "id": "SKOJCAVKXkOm",
        "outputId": "86e7df8c-45ba-48cf-c71e-d51d1e8e2b3f"
      },
      "execution_count": null,
      "outputs": [
        {
          "output_type": "stream",
          "name": "stdout",
          "text": [
            "0\n",
            "m\n",
            "1\n",
            "a\n",
            "2\n",
            "d\n",
            "3\n",
            "u\n",
            "4\n",
            "g\n",
            "5\n",
            "u\n",
            "6\n",
            "l\n",
            "7\n",
            "a\n",
            "8\n",
            "m\n",
            "9\n",
            "a\n",
            "10\n",
            "n\n",
            "11\n",
            "a\n",
            "12\n",
            "s\n",
            "13\n",
            "a\n"
          ]
        }
      ]
    },
    {
      "cell_type": "code",
      "source": [
        "range(0,len(y))"
      ],
      "metadata": {
        "colab": {
          "base_uri": "https://localhost:8080/"
        },
        "id": "4HlSnEw6arqJ",
        "outputId": "88a84ac5-0636-4877-a971-dfab7fe51455"
      },
      "execution_count": null,
      "outputs": [
        {
          "output_type": "execute_result",
          "data": {
            "text/plain": [
              "range(0, 15)"
            ]
          },
          "metadata": {},
          "execution_count": 67
        }
      ]
    },
    {
      "cell_type": "code",
      "source": [
        "print(y[2])"
      ],
      "metadata": {
        "colab": {
          "base_uri": "https://localhost:8080/"
        },
        "id": "2t19yaNfZy40",
        "outputId": "6f7126c5-314e-476b-8593-4f352f91c995"
      },
      "execution_count": null,
      "outputs": [
        {
          "output_type": "stream",
          "name": "stdout",
          "text": [
            "d\n"
          ]
        }
      ]
    },
    {
      "cell_type": "code",
      "source": [
        "for i in range(0,len(y)):\n",
        "  print(i)\n",
        "  print(y[i])"
      ],
      "metadata": {
        "colab": {
          "base_uri": "https://localhost:8080/"
        },
        "id": "pRvwHWiaa40l",
        "outputId": "7731bc61-f76c-455a-add0-2e8a8950c3a7"
      },
      "execution_count": null,
      "outputs": [
        {
          "output_type": "stream",
          "name": "stdout",
          "text": [
            "0\n",
            "m\n",
            "1\n",
            "a\n",
            "2\n",
            "d\n",
            "3\n",
            "u\n",
            "4\n",
            "g\n",
            "5\n",
            "u\n",
            "6\n",
            "l\n",
            "7\n",
            "a\n",
            "8\n",
            " \n",
            "9\n",
            "m\n",
            "10\n",
            "a\n",
            "11\n",
            "n\n",
            "12\n",
            "a\n",
            "13\n",
            "s\n",
            "14\n",
            "a\n"
          ]
        }
      ]
    },
    {
      "cell_type": "code",
      "source": [
        "x='dog ran out of the house'\n",
        "print('dog' in x)"
      ],
      "metadata": {
        "colab": {
          "base_uri": "https://localhost:8080/"
        },
        "id": "k6xfNXJlbot5",
        "outputId": "6d5e30b7-3f3d-4325-b55b-625bf054e73d"
      },
      "execution_count": null,
      "outputs": [
        {
          "output_type": "stream",
          "name": "stdout",
          "text": [
            "True\n"
          ]
        }
      ]
    },
    {
      "cell_type": "code",
      "source": [
        "x[6:9]"
      ],
      "metadata": {
        "colab": {
          "base_uri": "https://localhost:8080/",
          "height": 36
        },
        "id": "PQIpuvPkcIDR",
        "outputId": "73ad9349-bb5d-4005-a030-e9d0d9013e72"
      },
      "execution_count": null,
      "outputs": [
        {
          "output_type": "execute_result",
          "data": {
            "text/plain": [
              "'n o'"
            ],
            "application/vnd.google.colaboratory.intrinsic+json": {
              "type": "string"
            }
          },
          "metadata": {},
          "execution_count": 74
        }
      ]
    },
    {
      "cell_type": "code",
      "source": [
        "x= 'canvas'"
      ],
      "metadata": {
        "id": "P7Yspgiwce2C"
      },
      "execution_count": null,
      "outputs": []
    },
    {
      "cell_type": "code",
      "source": [
        "x[::-1]"
      ],
      "metadata": {
        "colab": {
          "base_uri": "https://localhost:8080/",
          "height": 36
        },
        "id": "yAIMvaGciuEt",
        "outputId": "12b13dfe-b21d-4a38-f550-6b31377563c6"
      },
      "execution_count": null,
      "outputs": [
        {
          "output_type": "execute_result",
          "data": {
            "text/plain": [
              "'suriv sras htiw detceffa si 01divoc'"
            ],
            "application/vnd.google.colaboratory.intrinsic+json": {
              "type": "string"
            }
          },
          "metadata": {},
          "execution_count": 132
        }
      ]
    },
    {
      "cell_type": "code",
      "source": [
        "x[::-1]"
      ],
      "metadata": {
        "colab": {
          "base_uri": "https://localhost:8080/",
          "height": 36
        },
        "id": "0NYLoNDfjbqa",
        "outputId": "b38f59f7-8aeb-41a6-db1c-a859391df669"
      },
      "execution_count": null,
      "outputs": [
        {
          "output_type": "execute_result",
          "data": {
            "text/plain": [
              "'savnac'"
            ],
            "application/vnd.google.colaboratory.intrinsic+json": {
              "type": "string"
            }
          },
          "metadata": {},
          "execution_count": 24
        }
      ]
    },
    {
      "cell_type": "code",
      "source": [
        "x[-6:-1]"
      ],
      "metadata": {
        "colab": {
          "base_uri": "https://localhost:8080/",
          "height": 36
        },
        "id": "MEZerdYxjkz9",
        "outputId": "a04c9e4c-7d99-4a1f-9f46-f0686f2a463f"
      },
      "execution_count": null,
      "outputs": [
        {
          "output_type": "execute_result",
          "data": {
            "text/plain": [
              "' viru'"
            ],
            "application/vnd.google.colaboratory.intrinsic+json": {
              "type": "string"
            }
          },
          "metadata": {},
          "execution_count": 130
        }
      ]
    },
    {
      "cell_type": "code",
      "source": [
        "y= 'rome is city'\n",
        "y= int(x)\n",
        "\n",
        "\n"
      ],
      "metadata": {
        "id": "6QPMCdOnmeFn"
      },
      "execution_count": null,
      "outputs": []
    },
    {
      "cell_type": "code",
      "source": [
        "prdt(x)"
      ],
      "metadata": {
        "colab": {
          "base_uri": "https://localhost:8080/"
        },
        "id": "iOzbjHBRuDR_",
        "outputId": "38dff14c-29e3-4818-f127-e5d92bd4fa6d"
      },
      "execution_count": null,
      "outputs": [
        {
          "output_type": "stream",
          "name": "stdout",
          "text": [
            "2\n"
          ]
        }
      ]
    },
    {
      "cell_type": "code",
      "source": [
        "x= \"covid10 is affected with sars virus\"\n",
        "letters= 'a-z'\n",
        "len()"
      ],
      "metadata": {
        "colab": {
          "base_uri": "https://localhost:8080/"
        },
        "id": "a5s6UZPwvyAX",
        "outputId": "ff1d9023-9e2b-4d9e-a457-4b52abc897c6"
      },
      "execution_count": null,
      "outputs": [
        {
          "output_type": "execute_result",
          "data": {
            "text/plain": [
              "35"
            ]
          },
          "metadata": {},
          "execution_count": 76
        }
      ]
    },
    {
      "cell_type": "code",
      "source": [
        "len(\"number of letters in 'x'\")"
      ],
      "metadata": {
        "colab": {
          "base_uri": "https://localhost:8080/"
        },
        "id": "_UiT8hAvwYLg",
        "outputId": "3c5b640e-e542-4c74-b7cf-0e88fc35e706"
      },
      "execution_count": null,
      "outputs": [
        {
          "output_type": "execute_result",
          "data": {
            "text/plain": [
              "24"
            ]
          },
          "metadata": {},
          "execution_count": 86
        }
      ]
    },
    {
      "cell_type": "code",
      "source": [
        "x= 'romeiscity'\n",
        "vowels=0\n",
        "consonants=0\n",
        "for i in range(0,len(x)):\n",
        "  if((x[i] =='a')or(x[i]=='e')or(x[i]=='i')or(x[i]=='o') or (x[i]=='u')):\n",
        "    vowels= vowels+1\n",
        "  else:\n",
        "    consonants= consonants+1\n",
        "print(\"totalvowels=\",vowels)\n",
        "print(\"totalconsonants=\",consonants)\n"
      ],
      "metadata": {
        "colab": {
          "base_uri": "https://localhost:8080/"
        },
        "id": "R1ANnTGSeDV4",
        "outputId": "971834c9-30af-45ba-f071-dcfed97a509d"
      },
      "execution_count": null,
      "outputs": [
        {
          "output_type": "stream",
          "name": "stdout",
          "text": [
            "totalvowels= 4\n",
            "totalconsonants= 6\n"
          ]
        }
      ]
    },
    {
      "cell_type": "code",
      "source": [],
      "metadata": {
        "id": "v4CxwHZbpgUj"
      },
      "execution_count": null,
      "outputs": []
    },
    {
      "cell_type": "code",
      "source": [
        "y='covid10 is affected with sars virus'\n",
        "letters=0\n",
        "for i in range(0,len(y)):\n",
        "  if(y[i]=='a 'or 'b'or'c'or'd'or'e'or'f'or'g'or'h'or'i'or'j'or'k'or'l'or'm'or'n'or'o'or'p'or'q'or'r'or's'or't'or'u'or'v'or'w'or'x'or'y'or'z'):\n",
        "    letters=letters+1\n",
        "  else:\n",
        "   numeric\n",
        "print(\"count letters= \",letters)"
      ],
      "metadata": {
        "colab": {
          "base_uri": "https://localhost:8080/"
        },
        "id": "BUR_eRlkn68A",
        "outputId": "9458eb3d-ee15-4b97-c061-5de9f7afc4a5"
      },
      "execution_count": null,
      "outputs": [
        {
          "output_type": "stream",
          "name": "stdout",
          "text": [
            "count letters=  35\n"
          ]
        }
      ]
    },
    {
      "cell_type": "code",
      "source": [
        "z= '@pyTh)nl0bb!Y34'\n",
        "def count(z):\n",
        " lower= 0\n",
        " upper= 0\n",
        " numeric= 0\n",
        " special= 0\n",
        " for i in range(0,len(z)):\n",
        "  if z[i].islower():\n",
        "    lower=lower+1\n",
        "  elif z[i].isupper():\n",
        "    upper=upper+1\n",
        "  elif z[i].isdigit():\n",
        "    numeric=numeric+1\n",
        "  else:\n",
        "    special=special+1\n",
        "print(\"count lower=\",lower)\n",
        "print(\"count upper=\",upper)\n",
        "print(\"count numeric=\",numeric)\n",
        "print(\"count special=\",special)"
      ],
      "metadata": {
        "id": "YRn9EqeOsi6q",
        "colab": {
          "base_uri": "https://localhost:8080/",
          "height": 245
        },
        "outputId": "3f582798-c828-410e-80b0-79892fc2650a"
      },
      "execution_count": null,
      "outputs": [
        {
          "output_type": "error",
          "ename": "NameError",
          "evalue": "ignored",
          "traceback": [
            "\u001b[0;31m---------------------------------------------------------------------------\u001b[0m",
            "\u001b[0;31mNameError\u001b[0m                                 Traceback (most recent call last)",
            "\u001b[0;32m<ipython-input-7-e19cfd9d6486>\u001b[0m in \u001b[0;36m<cell line: 16>\u001b[0;34m()\u001b[0m\n\u001b[1;32m     14\u001b[0m   \u001b[0;32melse\u001b[0m\u001b[0;34m:\u001b[0m\u001b[0;34m\u001b[0m\u001b[0;34m\u001b[0m\u001b[0m\n\u001b[1;32m     15\u001b[0m     \u001b[0mspecial\u001b[0m\u001b[0;34m=\u001b[0m\u001b[0mspecial\u001b[0m\u001b[0;34m+\u001b[0m\u001b[0;36m1\u001b[0m\u001b[0;34m\u001b[0m\u001b[0;34m\u001b[0m\u001b[0m\n\u001b[0;32m---> 16\u001b[0;31m \u001b[0mprint\u001b[0m\u001b[0;34m(\u001b[0m\u001b[0;34m\"count lower=\"\u001b[0m\u001b[0;34m,\u001b[0m\u001b[0mlower\u001b[0m\u001b[0;34m)\u001b[0m\u001b[0;34m\u001b[0m\u001b[0;34m\u001b[0m\u001b[0m\n\u001b[0m\u001b[1;32m     17\u001b[0m \u001b[0mprint\u001b[0m\u001b[0;34m(\u001b[0m\u001b[0;34m\"count upper=\"\u001b[0m\u001b[0;34m,\u001b[0m\u001b[0mupper\u001b[0m\u001b[0;34m)\u001b[0m\u001b[0;34m\u001b[0m\u001b[0;34m\u001b[0m\u001b[0m\n\u001b[1;32m     18\u001b[0m \u001b[0mprint\u001b[0m\u001b[0;34m(\u001b[0m\u001b[0;34m\"count numeric=\"\u001b[0m\u001b[0;34m,\u001b[0m\u001b[0mnumeric\u001b[0m\u001b[0;34m)\u001b[0m\u001b[0;34m\u001b[0m\u001b[0;34m\u001b[0m\u001b[0m\n",
            "\u001b[0;31mNameError\u001b[0m: name 'lower' is not defined"
          ]
        }
      ]
    },
    {
      "cell_type": "code",
      "source": [
        "name=['snowball','chewy','bubbles','gruff']\n",
        "animal=['cat','dog','fish','goat']\n",
        "age=[1,2,2,6]\n",
        "for x,y,z in zip(name,animal,age):\n",
        "  print(f'{x} {y} is {z}')"
      ],
      "metadata": {
        "colab": {
          "base_uri": "https://localhost:8080/"
        },
        "id": "h8q7I6PEoIFr",
        "outputId": "283e78e0-2ebd-47ce-c18c-46a3bd8d3b51"
      },
      "execution_count": null,
      "outputs": [
        {
          "output_type": "stream",
          "name": "stdout",
          "text": [
            "snowball cat is 1\n",
            "chewy dog is 2\n",
            "bubbles fish is 2\n",
            "gruff goat is 6\n"
          ]
        }
      ]
    },
    {
      "cell_type": "code",
      "source": [
        "l1=[100,200,300,400,500]\n",
        "l1[ ::-1]"
      ],
      "metadata": {
        "colab": {
          "base_uri": "https://localhost:8080/"
        },
        "id": "cV95DNaetilh",
        "outputId": "681f7ce7-5bf2-4cdd-c3f1-8dca12d0c1f0"
      },
      "execution_count": null,
      "outputs": [
        {
          "output_type": "execute_result",
          "data": {
            "text/plain": [
              "[500, 400, 300, 200, 100]"
            ]
          },
          "metadata": {},
          "execution_count": 19
        }
      ]
    },
    {
      "cell_type": "code",
      "source": [
        "l1=[\"m\", \"na\",\"i\",\"ke\"]\n",
        "l2=[\"y\",\"me\",\"s\",\"lly\"]\n",
        "a=[]\n",
        "for x,y, in zip(l1,l2):\n",
        "  k=x+y\n",
        "  a.append(k)\n",
        "  \"\".join(a)"
      ],
      "metadata": {
        "id": "riPahYdfua8U"
      },
      "execution_count": null,
      "outputs": []
    },
    {
      "cell_type": "code",
      "source": [
        "a\n"
      ],
      "metadata": {
        "colab": {
          "base_uri": "https://localhost:8080/"
        },
        "id": "U8Noccd-xukX",
        "outputId": "e2c320a2-ad50-42ce-9e03-6dcac9e2e3a4"
      },
      "execution_count": null,
      "outputs": [
        {
          "output_type": "execute_result",
          "data": {
            "text/plain": [
              "['my', 'name', 'is', 'kelly']"
            ]
          },
          "metadata": {},
          "execution_count": 31
        }
      ]
    },
    {
      "cell_type": "code",
      "source": [
        "from posixpath import join\n",
        "list1=[\"hello\",\"take\"]\n",
        "list2=[\"dear\",\"son\"]\n",
        "a=[]\n",
        "for i in list1:\n",
        "  for j in list2:\n",
        "    k=i+\" \"+j\n",
        "    a.append(k)"
      ],
      "metadata": {
        "id": "E0B8GsX8xyTJ"
      },
      "execution_count": null,
      "outputs": []
    },
    {
      "cell_type": "code",
      "source": [
        "a"
      ],
      "metadata": {
        "colab": {
          "base_uri": "https://localhost:8080/"
        },
        "id": "abmBC5Vnypoj",
        "outputId": "a777551e-5f70-43a7-8f1c-042cb5ca92a4"
      },
      "execution_count": null,
      "outputs": [
        {
          "output_type": "execute_result",
          "data": {
            "text/plain": [
              "['hello dear', 'hello son', 'take dear', 'take son']"
            ]
          },
          "metadata": {},
          "execution_count": 33
        }
      ]
    },
    {
      "cell_type": "code",
      "source": [
        "l1=[10,20,30,40]\n",
        "l2=[100,200,300,400]\n",
        "rl2=l2[::-1]\n",
        "for i,j in zip(l1,rl2):\n",
        "  print(i,j)"
      ],
      "metadata": {
        "colab": {
          "base_uri": "https://localhost:8080/"
        },
        "id": "sRYDOxMbys2V",
        "outputId": "5202f43a-847f-4bcd-c980-fbb331bcf023"
      },
      "execution_count": null,
      "outputs": [
        {
          "output_type": "stream",
          "name": "stdout",
          "text": [
            "10 400\n",
            "20 300\n",
            "30 200\n",
            "40 100\n"
          ]
        }
      ]
    },
    {
      "cell_type": "code",
      "source": [
        "l2=[\"mike\", \"\",\"emma\",\"kelly\",\"\",\"brad\"]\n",
        "a=[]\n",
        "for i in l2:\n",
        "  if(len(i)==0):\n",
        "   l2.remove(i)\n",
        "print(l2)"
      ],
      "metadata": {
        "id": "vsjOuC23zneR",
        "colab": {
          "base_uri": "https://localhost:8080/"
        },
        "outputId": "5aec17dc-8453-4d33-b96a-a0705790b626"
      },
      "execution_count": null,
      "outputs": [
        {
          "output_type": "stream",
          "name": "stdout",
          "text": [
            "['mike', 'emma', 'kelly', 'brad']\n"
          ]
        }
      ]
    },
    {
      "cell_type": "code",
      "source": [
        "print(l2)"
      ],
      "metadata": {
        "colab": {
          "base_uri": "https://localhost:8080/"
        },
        "id": "uSyMhhxL7BOv",
        "outputId": "e69af6d7-24ab-4cf9-b902-a38d651e2ea1"
      },
      "execution_count": null,
      "outputs": [
        {
          "output_type": "stream",
          "name": "stdout",
          "text": [
            "['kelly', '', 'brad']\n"
          ]
        }
      ]
    },
    {
      "cell_type": "code",
      "source": [
        "l1=[10,20,300,40,5000,600,500,30,40,10,20,300,400,5000,6000,7000,500,30,40]\n",
        "l1.append(7000)"
      ],
      "metadata": {
        "id": "JpMS8qi8HYie"
      },
      "execution_count": null,
      "outputs": []
    },
    {
      "cell_type": "code",
      "source": [
        "print(l1)"
      ],
      "metadata": {
        "colab": {
          "base_uri": "https://localhost:8080/"
        },
        "id": "QGkT-cHwFSDW",
        "outputId": "b291036a-afa5-425f-9bb1-0c1b4abc8da8"
      },
      "execution_count": null,
      "outputs": [
        {
          "output_type": "stream",
          "name": "stdout",
          "text": [
            "[10, 20, 300, 40, 5000, 600, 500, 30, 40, 10, 20, 300, 400, 5000, 6000, 7000, 500, 30, 40, 7000]\n"
          ]
        }
      ]
    },
    {
      "cell_type": "code",
      "source": [],
      "metadata": {
        "colab": {
          "base_uri": "https://localhost:8080/"
        },
        "id": "lGXDfgjj4BjZ",
        "outputId": "cc2adb84-d07a-4887-adfc-305e24071131"
      },
      "execution_count": null,
      "outputs": [
        {
          "output_type": "execute_result",
          "data": {
            "text/plain": [
              "False"
            ]
          },
          "metadata": {},
          "execution_count": 27
        }
      ]
    },
    {
      "cell_type": "code",
      "source": [
        "l2=[10,20,300,400,5000,6000,7000,500,30,40]\n",
        "l1=[20]\n",
        "for i in range(0,len(l2)):\n",
        "  if(l2[i] == 20):\n",
        "   l2[i]=200\n",
        "print(l2)"
      ],
      "metadata": {
        "colab": {
          "base_uri": "https://localhost:8080/"
        },
        "id": "NC0iRoynHDiE",
        "outputId": "6fbdf1fa-2a7d-4b90-b105-76dd581a29ed"
      },
      "execution_count": null,
      "outputs": [
        {
          "output_type": "stream",
          "name": "stdout",
          "text": [
            "[10, 200, 300, 400, 5000, 6000, 7000, 500, 30, 40]\n"
          ]
        }
      ]
    },
    {
      "cell_type": "code",
      "source": [
        "for i in range(0,len(l2)):\n",
        "  if l2[i]==20:\n",
        "    l2[i]=200\n",
        "    break\n",
        "print(l2)"
      ],
      "metadata": {
        "colab": {
          "base_uri": "https://localhost:8080/"
        },
        "id": "Aco0EZas2nFq",
        "outputId": "aaa89cc2-d045-45b1-86d2-4755bdd59727"
      },
      "execution_count": null,
      "outputs": [
        {
          "output_type": "stream",
          "name": "stdout",
          "text": [
            "['mike', 'emma', 'kelly', 'brad']\n"
          ]
        }
      ]
    },
    {
      "cell_type": "code",
      "source": [
        "l2"
      ],
      "metadata": {
        "colab": {
          "base_uri": "https://localhost:8080/"
        },
        "id": "WOXfjlsa3fjo",
        "outputId": "202aa91f-37f7-40ab-8f60-4f3c7b651a6a"
      },
      "execution_count": null,
      "outputs": [
        {
          "output_type": "execute_result",
          "data": {
            "text/plain": [
              "['mike', 'emma', 'kelly', 'brad']"
            ]
          },
          "metadata": {},
          "execution_count": 23
        }
      ]
    },
    {
      "cell_type": "code",
      "source": [
        "l2=[10,20,[300, 400,[5000,6000],500],30,40],[10, 20 ,[300, 400,[ 5000,6000,7000],500],30,40]\n",
        "for i in range(0,len(l2)):\n",
        "  if(l2[i]== 20):\n",
        "   l2.remove(i)\n",
        "print(l2)"
      ],
      "metadata": {
        "colab": {
          "base_uri": "https://localhost:8080/"
        },
        "id": "EEGQFXyxP5is",
        "outputId": "f3a9e691-4e52-43d4-f294-46703fc9b72d"
      },
      "execution_count": null,
      "outputs": [
        {
          "output_type": "stream",
          "name": "stdout",
          "text": [
            "([10, 20, [300, 400, [5000, 6000], 500], 30, 40], [10, 20, [300, 400, [5000, 6000, 7000], 500], 30, 40])\n"
          ]
        }
      ]
    },
    {
      "cell_type": "code",
      "source": [
        "l2"
      ],
      "metadata": {
        "colab": {
          "base_uri": "https://localhost:8080/"
        },
        "id": "Zl2_OcuBTUrQ",
        "outputId": "5a10923c-44d5-41ed-859c-6952a64accc7"
      },
      "execution_count": null,
      "outputs": [
        {
          "output_type": "execute_result",
          "data": {
            "text/plain": [
              "([10, 20, [300, 400, [5000, 6000], 500], 30, 40],\n",
              " [10, 20, [300, 400, [5000, 6000, 7000], 500], 30, 40])"
            ]
          },
          "metadata": {},
          "execution_count": 52
        }
      ]
    },
    {
      "cell_type": "code",
      "source": [
        "tuple=(\"apple\",\"banana\",\"cherry\",\"apple\",\"cherry\")\n",
        "len(tuple)"
      ],
      "metadata": {
        "id": "FqtfV9sFTWzX",
        "colab": {
          "base_uri": "https://localhost:8080/"
        },
        "outputId": "af1b78df-5100-4633-ec5c-6895259a576c"
      },
      "execution_count": null,
      "outputs": [
        {
          "output_type": "execute_result",
          "data": {
            "text/plain": [
              "5"
            ]
          },
          "metadata": {},
          "execution_count": 9
        }
      ]
    },
    {
      "cell_type": "code",
      "source": [
        "type(tuple)"
      ],
      "metadata": {
        "colab": {
          "base_uri": "https://localhost:8080/"
        },
        "id": "uzlZxxfszF9M",
        "outputId": "553ec355-e2a1-4b88-a10b-83a28253a1ed"
      },
      "execution_count": null,
      "outputs": [
        {
          "output_type": "execute_result",
          "data": {
            "text/plain": [
              "tuple"
            ]
          },
          "metadata": {},
          "execution_count": 10
        }
      ]
    },
    {
      "cell_type": "code",
      "source": [
        "if (\"apple\" in tuple):\n",
        "  print('present')"
      ],
      "metadata": {
        "colab": {
          "base_uri": "https://localhost:8080/"
        },
        "id": "ZSzM04nmzltu",
        "outputId": "4e688e30-715e-45ad-85e5-318fab0661c1"
      },
      "execution_count": null,
      "outputs": [
        {
          "output_type": "stream",
          "name": "stdout",
          "text": [
            "present\n"
          ]
        }
      ]
    },
    {
      "cell_type": "code",
      "source": [
        "tuple.append('orange')"
      ],
      "metadata": {
        "colab": {
          "base_uri": "https://localhost:8080/",
          "height": 175
        },
        "id": "MQam1Uyqz-QK",
        "outputId": "1bb96b64-5bcc-4836-ec4f-3b0a51a1747f"
      },
      "execution_count": null,
      "outputs": [
        {
          "output_type": "error",
          "ename": "NameError",
          "evalue": "ignored",
          "traceback": [
            "\u001b[0;31m---------------------------------------------------------------------------\u001b[0m",
            "\u001b[0;31mNameError\u001b[0m                                 Traceback (most recent call last)",
            "\u001b[0;32m<ipython-input-15-dcc16fdebd92>\u001b[0m in \u001b[0;36m<cell line: 1>\u001b[0;34m()\u001b[0m\n\u001b[0;32m----> 1\u001b[0;31m \u001b[0mtuole\u001b[0m\u001b[0;34m.\u001b[0m\u001b[0mappend\u001b[0m\u001b[0;34m(\u001b[0m\u001b[0;34m'orange'\u001b[0m\u001b[0;34m)\u001b[0m\u001b[0;34m\u001b[0m\u001b[0;34m\u001b[0m\u001b[0m\n\u001b[0m",
            "\u001b[0;31mNameError\u001b[0m: name 'tuole' is not defined"
          ]
        }
      ]
    },
    {
      "cell_type": "code",
      "source": [
        "l1= list(tuple)\n",
        "l1.append('orange')\n",
        "thistuple= tuple(l1)"
      ],
      "metadata": {
        "colab": {
          "base_uri": "https://localhost:8080/",
          "height": 210
        },
        "id": "2AhgOTlb0jT4",
        "outputId": "582d0c0e-dd7e-406c-e9f6-bae61619cbb9"
      },
      "execution_count": null,
      "outputs": [
        {
          "output_type": "error",
          "ename": "TypeError",
          "evalue": "ignored",
          "traceback": [
            "\u001b[0;31m---------------------------------------------------------------------------\u001b[0m",
            "\u001b[0;31mTypeError\u001b[0m                                 Traceback (most recent call last)",
            "\u001b[0;32m<ipython-input-58-2e02dcf98712>\u001b[0m in \u001b[0;36m<cell line: 3>\u001b[0;34m()\u001b[0m\n\u001b[1;32m      1\u001b[0m \u001b[0ml1\u001b[0m\u001b[0;34m=\u001b[0m \u001b[0mlist\u001b[0m\u001b[0;34m(\u001b[0m\u001b[0mtuple\u001b[0m\u001b[0;34m)\u001b[0m\u001b[0;34m\u001b[0m\u001b[0;34m\u001b[0m\u001b[0m\n\u001b[1;32m      2\u001b[0m \u001b[0ml1\u001b[0m\u001b[0;34m.\u001b[0m\u001b[0mappend\u001b[0m\u001b[0;34m(\u001b[0m\u001b[0;34m'orange'\u001b[0m\u001b[0;34m)\u001b[0m\u001b[0;34m\u001b[0m\u001b[0;34m\u001b[0m\u001b[0m\n\u001b[0;32m----> 3\u001b[0;31m \u001b[0mthistuple\u001b[0m\u001b[0;34m=\u001b[0m \u001b[0mtuple\u001b[0m\u001b[0;34m(\u001b[0m\u001b[0ml1\u001b[0m\u001b[0;34m)\u001b[0m\u001b[0;34m\u001b[0m\u001b[0;34m\u001b[0m\u001b[0m\n\u001b[0m",
            "\u001b[0;31mTypeError\u001b[0m: 'tuple' object is not callable"
          ]
        }
      ]
    },
    {
      "cell_type": "code",
      "source": [
        "for i in tuple:\n",
        "  print(i)"
      ],
      "metadata": {
        "colab": {
          "base_uri": "https://localhost:8080/"
        },
        "id": "teEfR1I-1JXE",
        "outputId": "f8b750d0-ed49-41d9-e21a-a6877689144f"
      },
      "execution_count": null,
      "outputs": [
        {
          "output_type": "stream",
          "name": "stdout",
          "text": [
            "apple\n",
            "banana\n",
            "cherry\n",
            "apple\n",
            "cherry\n"
          ]
        }
      ]
    },
    {
      "cell_type": "code",
      "source": [
        "# [02] wapp to multiply all the items in a list\n",
        "b=[3,4,5,4,7]\n",
        "product=1\n",
        "for i in b:\n",
        "  product*=i\n",
        "print(product)"
      ],
      "metadata": {
        "colab": {
          "base_uri": "https://localhost:8080/"
        },
        "id": "WJb6jnrA_bx8",
        "outputId": "b2e6335f-75cb-41cb-d209-a933cc9107ee"
      },
      "execution_count": null,
      "outputs": [
        {
          "output_type": "stream",
          "name": "stdout",
          "text": [
            "1680\n"
          ]
        }
      ]
    },
    {
      "cell_type": "code",
      "source": [
        "#[03] to get a largest number from a list\n",
        "m=[1,7,10,34,2,8]\n",
        "max= i\n",
        "for i in m:\n",
        "   if i > max :\n",
        "    max=i\n",
        "print(\"largest number=\",max)"
      ],
      "metadata": {
        "colab": {
          "base_uri": "https://localhost:8080/"
        },
        "id": "1MyoC9wuB1mJ",
        "outputId": "addcdcb6-a13e-4be2-9007-87feda1dce41"
      },
      "execution_count": null,
      "outputs": [
        {
          "output_type": "stream",
          "name": "stdout",
          "text": [
            "largest number= 34\n"
          ]
        }
      ]
    },
    {
      "cell_type": "code",
      "source": [
        "#[04] smallest number in a list\n",
        "p=[51,7,1034,2,8]\n",
        "min=i\n",
        "for i in p:\n",
        "  if i< min:\n",
        "    min=i\n",
        "print(\"smallest number=\",min)"
      ],
      "metadata": {
        "colab": {
          "base_uri": "https://localhost:8080/"
        },
        "id": "TtdPVxWHD3bt",
        "outputId": "c8c8422e-ae24-460f-aebf-8ece4b1efbbb"
      },
      "execution_count": null,
      "outputs": [
        {
          "output_type": "stream",
          "name": "stdout",
          "text": [
            "smallest number= -8\n"
          ]
        }
      ]
    },
    {
      "cell_type": "code",
      "source": [
        "#[05] first and last character are same and no of strings length is 2 or more\n",
        "r=[\"madem\",\"3643\",\"bab\",\"2442\"]\n",
        "ch=0\n",
        "for i in r:\n",
        "  if len(i)>1 :\n",
        "   r[0] == r[-1]\n",
        "  ch += 1\n",
        "print(ch)"
      ],
      "metadata": {
        "colab": {
          "base_uri": "https://localhost:8080/"
        },
        "id": "nM4ZbD6mEVKb",
        "outputId": "1dea0a4d-f36a-4551-c848-4d5328aa521d"
      },
      "execution_count": null,
      "outputs": [
        {
          "output_type": "stream",
          "name": "stdout",
          "text": [
            "4\n"
          ]
        }
      ]
    },
    {
      "cell_type": "code",
      "source": [
        "#[06] to remove duplicates from a list\n",
        "a=[1,2,3,7,2,1,5,6,4,8,5,4]\n",
        "uniq=set(a)\n",
        "print(uniq)"
      ],
      "metadata": {
        "colab": {
          "base_uri": "https://localhost:8080/"
        },
        "id": "UOhmJ-PmIBnZ",
        "outputId": "501fed54-17f3-408b-ec08-afc47111b825"
      },
      "execution_count": null,
      "outputs": [
        {
          "output_type": "stream",
          "name": "stdout",
          "text": [
            "{1, 2, 3, 4, 5, 6, 7, 8}\n"
          ]
        }
      ]
    },
    {
      "cell_type": "code",
      "source": [
        "#[07] check a list is empty or not\n",
        "n=[34,45,6,5,4,56,7]\n",
        "if(n ==0):\n",
        "  print('empty')\n",
        "else:\n",
        "  print('non empty')"
      ],
      "metadata": {
        "id": "uXf5ruiqTUvi",
        "colab": {
          "base_uri": "https://localhost:8080/"
        },
        "outputId": "65c12ba8-32d1-4b17-b79e-1872fedec085"
      },
      "execution_count": null,
      "outputs": [
        {
          "output_type": "stream",
          "name": "stdout",
          "text": [
            "non empty\n"
          ]
        }
      ]
    },
    {
      "cell_type": "code",
      "source": [
        "#[08] to clone or copy the list\n",
        "e=[10,22,44,23,4]\n",
        "e.copy()"
      ],
      "metadata": {
        "id": "HfpGoJXGDCir",
        "colab": {
          "base_uri": "https://localhost:8080/"
        },
        "outputId": "de219dc8-b01e-45e7-d9e4-c63a91e276ab"
      },
      "execution_count": null,
      "outputs": [
        {
          "output_type": "execute_result",
          "data": {
            "text/plain": [
              "[10, 22, 44, 23, 4]"
            ]
          },
          "metadata": {},
          "execution_count": 10
        }
      ]
    },
    {
      "cell_type": "code",
      "source": [
        "s=list(e)\n",
        "print(\"e=\",s)\n",
        "print(\"s=\",e)"
      ],
      "metadata": {
        "colab": {
          "base_uri": "https://localhost:8080/"
        },
        "id": "cxB99hZW65yP",
        "outputId": "8137e412-19d8-4edb-9f81-208dfd7ab72e"
      },
      "execution_count": null,
      "outputs": [
        {
          "output_type": "stream",
          "name": "stdout",
          "text": [
            "e= ['manasa', 'chikly', 'manu', 'laddu']\n",
            "s= ['manasa', 'chikly', 'manu', 'laddu']\n"
          ]
        }
      ]
    },
    {
      "cell_type": "code",
      "source": [
        "#[09] to find list of words that are greater than n from a given list of words\n",
        "n=5\n",
        "e=[\"manasa\",\"chikly\",\"manu\",\"laddu\"]\n",
        "newlist=[]\n",
        "for i in e:\n",
        "  if(len(i)> n):\n",
        "    newlist.append(i)\n",
        "print(newlist)"
      ],
      "metadata": {
        "id": "zPu-atjHtxM-",
        "colab": {
          "base_uri": "https://localhost:8080/"
        },
        "outputId": "95c8bb75-8f05-46ed-f966-18cfffdd125e"
      },
      "execution_count": null,
      "outputs": [
        {
          "output_type": "stream",
          "name": "stdout",
          "text": [
            "['manasa', 'chikly']\n"
          ]
        }
      ]
    },
    {
      "cell_type": "code",
      "source": [
        "#[10]that get two lists as input and check if they have atleast one common member\n",
        "t=[1,2,3,4,5]\n",
        "h=[5,6,7,8,9]\n",
        "common=[]\n",
        "for i in t:\n",
        "  for j in h:\n",
        "   if (i==j):\n",
        "    common.append(i)\n",
        "print(\"lists have atleast one common member=\",common)\n"
      ],
      "metadata": {
        "id": "cIFMw4Eis_bL",
        "colab": {
          "base_uri": "https://localhost:8080/"
        },
        "outputId": "054fc7f6-2cf5-4531-dff5-a2b448070319"
      },
      "execution_count": null,
      "outputs": [
        {
          "output_type": "stream",
          "name": "stdout",
          "text": [
            "lists have atleast one common member= [5]\n"
          ]
        }
      ]
    },
    {
      "cell_type": "code",
      "source": [
        "#[10]\n",
        "t=[1,2,3,4,5]\n",
        "h=[5,6,7,8,9]\n",
        "l1=[]\n",
        "for i in t:\n",
        "  for j in h:\n",
        "   if(i==j):\n",
        "    l1.append(i)\n",
        "    result=True\n",
        "   elif result:\n",
        "     print(\"list have atleast one common value\")\n",
        "   else:\n",
        "     print(\"list do not have common values\")"
      ],
      "metadata": {
        "colab": {
          "base_uri": "https://localhost:8080/"
        },
        "id": "0D2oBcnYBGmn",
        "outputId": "f2939904-ceed-4ec9-ff19-50730330d312"
      },
      "execution_count": null,
      "outputs": [
        {
          "output_type": "stream",
          "name": "stdout",
          "text": [
            "list have atleast one common value\n"
          ]
        }
      ]
    },
    {
      "cell_type": "code",
      "source": [
        "#[11] to print a specified list after removing the 0th,4th,5thelements\n",
        "k=[\"cat\",\"dog\",\"elephant\",\"fox\",\"tigr\",\"lion\",\"panda\"]\n",
        "for i in k:\n",
        "  x=k[0] and k[4] and k[5]\n",
        "k.remove(x)"
      ],
      "metadata": {
        "id": "TJd16o48DBO-"
      },
      "execution_count": null,
      "outputs": []
    },
    {
      "cell_type": "code",
      "source": [
        "k"
      ],
      "metadata": {
        "colab": {
          "base_uri": "https://localhost:8080/"
        },
        "id": "g5VzZidLE9nZ",
        "outputId": "4b9f6e6c-0dfe-4920-ba80-44ed3eb319bc"
      },
      "execution_count": null,
      "outputs": [
        {
          "output_type": "execute_result",
          "data": {
            "text/plain": [
              "['dog', 'elephant', 'fox', 'panda']"
            ]
          },
          "metadata": {},
          "execution_count": 42
        }
      ]
    },
    {
      "cell_type": "code",
      "source": [
        "#[14]to generate and print a list of first and last 5 elements where the values are square of numbers between 1 and 30\n",
        "u=[1,2,3,4,5,6,7,8,9,10,11,12,13,14,15,16,17,18,19,20,21,22,23,24,25,26,27,28,29,30]\n",
        "sqr=[]\n",
        "for i in u:\n",
        "  if(i**2):\n",
        "   sqr.append(i**2)\n",
        "print(\"first 5 elements=\",sqr[:5])\n",
        "print(\"last 5 elements=\",sqr[-5:])"
      ],
      "metadata": {
        "colab": {
          "base_uri": "https://localhost:8080/"
        },
        "id": "c2k13B2EFO6t",
        "outputId": "390ef715-745c-49ec-cffd-9fbf8b896039"
      },
      "execution_count": null,
      "outputs": [
        {
          "output_type": "stream",
          "name": "stdout",
          "text": [
            "first 5 elements= [1, 4, 9, 16, 25]\n",
            "last 5 elements= [676, 729, 784, 841, 900]\n"
          ]
        }
      ]
    },
    {
      "cell_type": "markdown",
      "source": [
        "sets are unordered\n",
        "unchageable\n",
        "unindexed"
      ],
      "metadata": {
        "id": "ayg7mBni7l1c"
      }
    },
    {
      "cell_type": "code",
      "source": [
        "#[16]to convert a list of characters into a string\n",
        "a=[\"t\",\"u\",\"t\",\"o\",\"r\",\"j\",\"o\",\"e\",\"s\"]"
      ],
      "metadata": {
        "id": "tLOcZvmJ7wUe"
      },
      "execution_count": null,
      "outputs": []
    },
    {
      "cell_type": "code",
      "source": [
        "a1=\" \".join(a)"
      ],
      "metadata": {
        "id": "Fv0mrgnNCXdi"
      },
      "execution_count": null,
      "outputs": []
    },
    {
      "cell_type": "code",
      "source": [
        "a1"
      ],
      "metadata": {
        "colab": {
          "base_uri": "https://localhost:8080/",
          "height": 36
        },
        "id": "LHf5tqanD80A",
        "outputId": "5d034288-29fb-4ad0-d450-9eb352e6335a"
      },
      "execution_count": null,
      "outputs": [
        {
          "output_type": "execute_result",
          "data": {
            "text/plain": [
              "'t u t o r j o e s'"
            ],
            "application/vnd.google.colaboratory.intrinsic+json": {
              "type": "string"
            }
          },
          "metadata": {},
          "execution_count": 32
        }
      ]
    },
    {
      "cell_type": "code",
      "source": [
        "#[17]to find the index of an item in a specified list\n",
        "r=[20,70,30,90,10,30,90,10,80]\n",
        "r.index(30)"
      ],
      "metadata": {
        "colab": {
          "base_uri": "https://localhost:8080/"
        },
        "id": "JiWIr3_3GQGF",
        "outputId": "51016e54-bbf7-4fc1-fc6a-60a4141b498d"
      },
      "execution_count": null,
      "outputs": [
        {
          "output_type": "execute_result",
          "data": {
            "text/plain": [
              "2"
            ]
          },
          "metadata": {},
          "execution_count": 38
        }
      ]
    },
    {
      "cell_type": "code",
      "source": [
        "#[19]to add a list to the second list\n",
        "a=[\"cat\",\"dog\",\"lion\",\"panda\"]\n",
        "b=[10,20,30,40]\n",
        "print(a+b)"
      ],
      "metadata": {
        "colab": {
          "base_uri": "https://localhost:8080/"
        },
        "id": "r9PuufMtJehy",
        "outputId": "3824deec-e9d5-4151-bec1-7b60f4ebeba7"
      },
      "execution_count": null,
      "outputs": [
        {
          "output_type": "stream",
          "name": "stdout",
          "text": [
            "['cat', 'dog', 'lion', 'panda', 10, 20, 30, 40]\n"
          ]
        }
      ]
    },
    {
      "cell_type": "code",
      "source": [
        "#[20]to select an item randomly from a list Using random.choice()\n",
        "\n",
        "\n",
        "import random\n",
        "n=[\"cat\",\"dog\",\"elephant\",\"fox\",\"tiger\",\"lion\",\"panda\"]\n",
        "print(random.choice(n))"
      ],
      "metadata": {
        "colab": {
          "base_uri": "https://localhost:8080/"
        },
        "id": "QZTalsCtJ--t",
        "outputId": "6a706cd4-ad0b-4c67-fae1-bb1c4312cfff"
      },
      "execution_count": null,
      "outputs": [
        {
          "output_type": "stream",
          "name": "stdout",
          "text": [
            "elephant\n"
          ]
        }
      ]
    },
    {
      "cell_type": "code",
      "source": [
        "#[21] two lists are circularly identical\n",
        "l1=[8,8,12,12,8]\n",
        "l2=[8,8,8,12,12]\n",
        "l3=[1,8,8,12,12]\n",
        "print(\"compare l1 and l2=\", ' '.join(map(str,l2)) in ' '.join(map(str,l1*2)))\n",
        "print(\"compare l1 and l3=\", ' '.join(map(str,l3)) in ' '.join(map(str,l1*2)))"
      ],
      "metadata": {
        "colab": {
          "base_uri": "https://localhost:8080/"
        },
        "id": "eyPI6EDyLgPD",
        "outputId": "d85d68d6-caee-4cd9-8718-b47660f1ec3e"
      },
      "execution_count": null,
      "outputs": [
        {
          "output_type": "stream",
          "name": "stdout",
          "text": [
            "compare l1 and l2= True\n",
            "compare l1 and l3= False\n"
          ]
        }
      ]
    },
    {
      "cell_type": "code",
      "source": [
        "b=[2,4,56,78,4,34,5,8,9]\n",
        "min = i\n",
        "second = i\n",
        "for i in range(0,len(b)):\n",
        " if b[i]<min :\n",
        "  min=b[i]\n",
        "for i in range(0,len(b)):\n",
        "  if b[i] !=min and b[i]< second:\n",
        "    second=b[i]\n",
        "print(\"second smallest number=\",second)"
      ],
      "metadata": {
        "colab": {
          "base_uri": "https://localhost:8080/"
        },
        "id": "DTGHns17SfTJ",
        "outputId": "926cc250-a092-4ce5-fe99-84f395f2b1fb"
      },
      "execution_count": null,
      "outputs": [
        {
          "output_type": "stream",
          "name": "stdout",
          "text": [
            "second smallest number= 4\n"
          ]
        }
      ]
    },
    {
      "cell_type": "code",
      "source": [
        "list=[82,4,56,78,4,34,5,100,9]\n",
        "max=i\n",
        "second=i\n",
        "for i in range(0,len(list)):\n",
        "  if list[i]>i:\n",
        "    max=list[i]\n",
        "for i in range(0,len(list)):\n",
        "  if list[i]!=max and b[i]>second:\n",
        "   second=b[i]\n",
        "print(\"second largest number=\",second)"
      ],
      "metadata": {
        "colab": {
          "base_uri": "https://localhost:8080/"
        },
        "id": "qFrQWnGNkUu3",
        "outputId": "940b263b-7f60-42bb-c358-019b6d2af43d"
      },
      "execution_count": null,
      "outputs": [
        {
          "output_type": "stream",
          "name": "stdout",
          "text": [
            "second largest number= 78\n"
          ]
        }
      ]
    },
    {
      "cell_type": "code",
      "source": [
        "m=[82,4,10,56,78,4,34,5,10,9]\n",
        "uniq= set(m)\n",
        "print(\"unique numbers=\",uniq)"
      ],
      "metadata": {
        "colab": {
          "base_uri": "https://localhost:8080/"
        },
        "id": "cg-YxQd0mZda",
        "outputId": "2a39614e-5b93-4c81-d3a3-be8a4618869d"
      },
      "execution_count": null,
      "outputs": [
        {
          "output_type": "stream",
          "name": "stdout",
          "text": [
            "unique numbers= {34, 4, 5, 9, 10, 78, 82, 56}\n"
          ]
        }
      ]
    },
    {
      "cell_type": "code",
      "source": [
        "import collections\n",
        "x=[10,30,50,10,20,60,20,60,40,40,50,50,30]\n",
        "def  countfrequency(x):\n",
        "  return collections.counter(x)\n",
        "print(countfrequency(x))"
      ],
      "metadata": {
        "colab": {
          "base_uri": "https://localhost:8080/",
          "height": 314
        },
        "id": "AJfJuxOXpbPW",
        "outputId": "61d83620-fc30-4203-ec7a-a4e8ceb617ad"
      },
      "execution_count": null,
      "outputs": [
        {
          "output_type": "error",
          "ename": "AttributeError",
          "evalue": "ignored",
          "traceback": [
            "\u001b[0;31m---------------------------------------------------------------------------\u001b[0m",
            "\u001b[0;31mAttributeError\u001b[0m                            Traceback (most recent call last)",
            "\u001b[0;32m<ipython-input-12-e176f31cfd3f>\u001b[0m in \u001b[0;36m<cell line: 5>\u001b[0;34m()\u001b[0m\n\u001b[1;32m      3\u001b[0m \u001b[0;32mdef\u001b[0m  \u001b[0mcountfrequency\u001b[0m\u001b[0;34m(\u001b[0m\u001b[0mx\u001b[0m\u001b[0;34m)\u001b[0m\u001b[0;34m:\u001b[0m\u001b[0;34m\u001b[0m\u001b[0;34m\u001b[0m\u001b[0m\n\u001b[1;32m      4\u001b[0m   \u001b[0;32mreturn\u001b[0m \u001b[0mcollections\u001b[0m\u001b[0;34m.\u001b[0m\u001b[0mcounter\u001b[0m\u001b[0;34m(\u001b[0m\u001b[0mx\u001b[0m\u001b[0;34m)\u001b[0m\u001b[0;34m\u001b[0m\u001b[0;34m\u001b[0m\u001b[0m\n\u001b[0;32m----> 5\u001b[0;31m \u001b[0mprint\u001b[0m\u001b[0;34m(\u001b[0m\u001b[0mcountfrequency\u001b[0m\u001b[0;34m(\u001b[0m\u001b[0mx\u001b[0m\u001b[0;34m)\u001b[0m\u001b[0;34m)\u001b[0m\u001b[0;34m\u001b[0m\u001b[0;34m\u001b[0m\u001b[0m\n\u001b[0m",
            "\u001b[0;32m<ipython-input-12-e176f31cfd3f>\u001b[0m in \u001b[0;36mcountfrequency\u001b[0;34m(x)\u001b[0m\n\u001b[1;32m      2\u001b[0m \u001b[0mx\u001b[0m\u001b[0;34m=\u001b[0m\u001b[0;34m[\u001b[0m\u001b[0;36m10\u001b[0m\u001b[0;34m,\u001b[0m\u001b[0;36m30\u001b[0m\u001b[0;34m,\u001b[0m\u001b[0;36m50\u001b[0m\u001b[0;34m,\u001b[0m\u001b[0;36m10\u001b[0m\u001b[0;34m,\u001b[0m\u001b[0;36m20\u001b[0m\u001b[0;34m,\u001b[0m\u001b[0;36m60\u001b[0m\u001b[0;34m,\u001b[0m\u001b[0;36m20\u001b[0m\u001b[0;34m,\u001b[0m\u001b[0;36m60\u001b[0m\u001b[0;34m,\u001b[0m\u001b[0;36m40\u001b[0m\u001b[0;34m,\u001b[0m\u001b[0;36m40\u001b[0m\u001b[0;34m,\u001b[0m\u001b[0;36m50\u001b[0m\u001b[0;34m,\u001b[0m\u001b[0;36m50\u001b[0m\u001b[0;34m,\u001b[0m\u001b[0;36m30\u001b[0m\u001b[0;34m]\u001b[0m\u001b[0;34m\u001b[0m\u001b[0;34m\u001b[0m\u001b[0m\n\u001b[1;32m      3\u001b[0m \u001b[0;32mdef\u001b[0m  \u001b[0mcountfrequency\u001b[0m\u001b[0;34m(\u001b[0m\u001b[0mx\u001b[0m\u001b[0;34m)\u001b[0m\u001b[0;34m:\u001b[0m\u001b[0;34m\u001b[0m\u001b[0;34m\u001b[0m\u001b[0m\n\u001b[0;32m----> 4\u001b[0;31m   \u001b[0;32mreturn\u001b[0m \u001b[0mcollections\u001b[0m\u001b[0;34m.\u001b[0m\u001b[0mcounter\u001b[0m\u001b[0;34m(\u001b[0m\u001b[0mx\u001b[0m\u001b[0;34m)\u001b[0m\u001b[0;34m\u001b[0m\u001b[0;34m\u001b[0m\u001b[0m\n\u001b[0m\u001b[1;32m      5\u001b[0m \u001b[0mprint\u001b[0m\u001b[0;34m(\u001b[0m\u001b[0mcountfrequency\u001b[0m\u001b[0;34m(\u001b[0m\u001b[0mx\u001b[0m\u001b[0;34m)\u001b[0m\u001b[0;34m)\u001b[0m\u001b[0;34m\u001b[0m\u001b[0;34m\u001b[0m\u001b[0m\n",
            "\u001b[0;31mAttributeError\u001b[0m: module 'collections' has no attribute 'counter'"
          ]
        }
      ]
    },
    {
      "cell_type": "code",
      "source": [
        "k=['T','J']\n",
        "n = 10\n",
        "list = ['{}{}'.format(a,b) for b in range(1,n+1) for a in k]\n",
        "print(list)\n"
      ],
      "metadata": {
        "colab": {
          "base_uri": "https://localhost:8080/"
        },
        "id": "NAWkMIjaueh8",
        "outputId": "425dcc6c-82bd-4f6b-b8d9-e9f12ef591a1"
      },
      "execution_count": null,
      "outputs": [
        {
          "output_type": "stream",
          "name": "stdout",
          "text": [
            "['T1', 'J1', 'T2', 'J2', 'T3', 'J3', 'T4', 'J4', 'T5', 'J5', 'T6', 'J6', 'T7', 'J7', 'T8', 'J8', 'T9', 'J9', 'T10', 'J10']\n"
          ]
        }
      ]
    },
    {
      "cell_type": "code",
      "source": [
        "x= 30\n",
        "s= 'tutor joes'\n",
        "print(id(x))\n",
        "print(id(s))"
      ],
      "metadata": {
        "colab": {
          "base_uri": "https://localhost:8080/"
        },
        "id": "7dCiE41gxmcJ",
        "outputId": "5bc72fd1-e1de-4f7f-ccb7-5c969434df4d"
      },
      "execution_count": null,
      "outputs": [
        {
          "output_type": "stream",
          "name": "stdout",
          "text": [
            "132428510348432\n",
            "132427240255536\n"
          ]
        }
      ]
    },
    {
      "cell_type": "code",
      "source": [
        "a= [23,45,67,78,89,34]\n",
        "b= [34,89,55,56,39,67]\n",
        "k=[set(a) & set(b)]\n",
        "print(k)"
      ],
      "metadata": {
        "colab": {
          "base_uri": "https://localhost:8080/"
        },
        "id": "PawHa5WNTA5z",
        "outputId": "eaa7279f-5854-478c-dcf2-2fb2b98e6ab9"
      },
      "execution_count": null,
      "outputs": [
        {
          "output_type": "stream",
          "name": "stdout",
          "text": [
            "[{89, 34, 67}]\n"
          ]
        }
      ]
    },
    {
      "cell_type": "code",
      "source": [
        "y=[1,2,4,3,6,7,5,8,9,7,8,9,10]\n",
        "oddnumbers=[]\n",
        "for i in y:\n",
        "  if(i%2==1):\n",
        "    oddnumbers.append(i)\n",
        "print(oddnumbers)"
      ],
      "metadata": {
        "colab": {
          "base_uri": "https://localhost:8080/"
        },
        "id": "HCsYOqhyS7ZB",
        "outputId": "65c10af6-169e-41ca-b2d3-f2a005be8af3"
      },
      "execution_count": null,
      "outputs": [
        {
          "output_type": "stream",
          "name": "stdout",
          "text": [
            "[1, 3, 7, 5, 9, 7, 9]\n"
          ]
        }
      ]
    },
    {
      "cell_type": "code",
      "source": [
        "z=[10,20,30,50,80,70,70,80,10]\n",
        "set(z)"
      ],
      "metadata": {
        "colab": {
          "base_uri": "https://localhost:8080/"
        },
        "id": "jv_a3FgVaD6-",
        "outputId": "2d85eb86-1ad9-4081-eabd-88b58e2e7e00"
      },
      "execution_count": null,
      "outputs": [
        {
          "output_type": "execute_result",
          "data": {
            "text/plain": [
              "{10, 20, 30, 50, 70, 80}"
            ]
          },
          "metadata": {},
          "execution_count": 28
        }
      ]
    },
    {
      "cell_type": "code",
      "source": [
        "len(set(z))"
      ],
      "metadata": {
        "colab": {
          "base_uri": "https://localhost:8080/"
        },
        "id": "qInxdFmRaYTY",
        "outputId": "efd99549-9ce9-4c2b-c0b8-4105dd0b65fd"
      },
      "execution_count": null,
      "outputs": [
        {
          "output_type": "execute_result",
          "data": {
            "text/plain": [
              "6"
            ]
          },
          "metadata": {},
          "execution_count": 29
        }
      ]
    },
    {
      "cell_type": "code",
      "source": [
        "m=[2,1,2,4,6,4,3,2,1]\n",
        "k= set(m)"
      ],
      "metadata": {
        "id": "ArGRmiYnaz83"
      },
      "execution_count": null,
      "outputs": []
    },
    {
      "cell_type": "code",
      "source": [
        "k"
      ],
      "metadata": {
        "colab": {
          "base_uri": "https://localhost:8080/"
        },
        "id": "GGyDv1lws_YU",
        "outputId": "1b3fc20f-efcc-4274-ec43-155ba426ccd7"
      },
      "execution_count": null,
      "outputs": [
        {
          "output_type": "execute_result",
          "data": {
            "text/plain": [
              "{1, 2, 3, 4, 6}"
            ]
          },
          "metadata": {},
          "execution_count": 3
        }
      ]
    },
    {
      "cell_type": "code",
      "source": [
        "prod= 1\n",
        "for i in k:\n",
        "  prod*=i\n",
        "print(prod)"
      ],
      "metadata": {
        "colab": {
          "base_uri": "https://localhost:8080/"
        },
        "id": "8DdrDxrRb_BO",
        "outputId": "b2404fc6-64fd-43a6-e1c9-e94bd11400bc"
      },
      "execution_count": null,
      "outputs": [
        {
          "output_type": "stream",
          "name": "stdout",
          "text": [
            "144\n"
          ]
        }
      ]
    },
    {
      "cell_type": "code",
      "source": [
        "from IPython.core.interactiveshell import re\n",
        "a=[4,5,6,7,3,9]\n",
        "i,j=3,10\n",
        "result= True\n",
        "for k in a:\n",
        "  if( k<i or k>=j):\n",
        "    result= False\n",
        "    print(\"does list contain all alements in range=\",result)"
      ],
      "metadata": {
        "id": "903_9ZY2cOvY"
      },
      "execution_count": null,
      "outputs": []
    },
    {
      "cell_type": "code",
      "source": [
        "result"
      ],
      "metadata": {
        "colab": {
          "base_uri": "https://localhost:8080/",
          "height": 36
        },
        "id": "o5gAEaB_74Uw",
        "outputId": "7e4dbe4c-c95a-43f8-d738-dcc0c3b064a7"
      },
      "execution_count": null,
      "outputs": [
        {
          "output_type": "execute_result",
          "data": {
            "text/plain": [
              "'true'"
            ],
            "application/vnd.google.colaboratory.intrinsic+json": {
              "type": "string"
            }
          },
          "metadata": {},
          "execution_count": 59
        }
      ]
    },
    {
      "cell_type": "code",
      "source": [
        "# [35] three consecutive numbers\n",
        "a=[18,18,18,6,3,4,9,9,9]\n",
        "for i in range(0,len(a)-2):\n",
        "  if a[i] == a[i+1] == a[i+2]:\n",
        "\n",
        "    print(\"consecutive numbers=\",a[i])"
      ],
      "metadata": {
        "id": "Nwfr8rEdoZJf",
        "colab": {
          "base_uri": "https://localhost:8080/"
        },
        "outputId": "6ff63753-3c2b-40fc-c21a-6eb1df9aef60"
      },
      "execution_count": null,
      "outputs": [
        {
          "output_type": "stream",
          "name": "stdout",
          "text": [
            "consecutive numbers= 18\n",
            "consecutive numbers= 9\n"
          ]
        }
      ]
    },
    {
      "cell_type": "code",
      "source": [
        "a=[10,20,30,20,30,400]\n",
        "a2=[]\n",
        "for i in range(0,len(a)):\n",
        "  r= max(a[i] ,a[i-1])\n",
        "  a2.append(r)\n",
        "for i in a2:\n",
        "  print(i,end=\" \")"
      ],
      "metadata": {
        "id": "YGUb1qKsEyF2",
        "colab": {
          "base_uri": "https://localhost:8080/"
        },
        "outputId": "0ceff8d4-878c-4c93-dc80-d89aefcc1fa8"
      },
      "execution_count": null,
      "outputs": [
        {
          "output_type": "stream",
          "name": "stdout",
          "text": [
            "400 20 30 30 30 400 "
          ]
        }
      ]
    },
    {
      "cell_type": "code",
      "source": [
        "a=\"find the list of words that are longer than n from a given list of words\"\n",
        "b=[]\n",
        "n=4\n",
        "txt=a.split(\" \")\n",
        "for i in a:\n",
        "  if len(i) > n:\n",
        "   b.append(i)\n",
        "   print(b)"
      ],
      "metadata": {
        "id": "raWOIUv7kedD"
      },
      "execution_count": null,
      "outputs": []
    },
    {
      "cell_type": "code",
      "source": [
        "b"
      ],
      "metadata": {
        "id": "vuxl4mOB8P4A",
        "outputId": "046158fa-9efa-4c38-f2eb-aa518e53baec",
        "colab": {
          "base_uri": "https://localhost:8080/"
        }
      },
      "execution_count": null,
      "outputs": [
        {
          "output_type": "execute_result",
          "data": {
            "text/plain": [
              "[]"
            ]
          },
          "metadata": {},
          "execution_count": 62
        }
      ]
    },
    {
      "cell_type": "markdown",
      "source": [
        "dictionaries\n",
        "1. mustv be in {}\n",
        "2. key:value(pairs)\n",
        "3. to access values in the dictionary, we need to use keys\n",
        "4. pop is used to remove key\n",
        "5. nested dictionaries\n",
        "  my family={\"child1\" :{\"name\":\"emil\",\"year\":\"2004\"},\n",
        "             \"child2\" :{'name"
      ],
      "metadata": {
        "id": "WyQJnsyFqeis"
      }
    },
    {
      "cell_type": "code",
      "source": [
        "thisdict={\"brand\"=\"ford\",mode}"
      ],
      "metadata": {
        "id": "taRus3mSrHUP"
      },
      "execution_count": null,
      "outputs": []
    },
    {
      "cell_type": "code",
      "source": [
        "a={1:2,3:4,4:3,2:1,0:0}\n",
        "b={}\n",
        "for i in  a:\n",
        "  if a.key():\n",
        "    a[i<1],a[i+1]\n",
        "    b.append(i)\n",
        "    print(b)"
      ],
      "metadata": {
        "colab": {
          "base_uri": "https://localhost:8080/",
          "height": 245
        },
        "id": "wT46Z95_uqa_",
        "outputId": "4ac7403b-e44a-409d-b832-f31a056a9baa"
      },
      "execution_count": null,
      "outputs": [
        {
          "output_type": "error",
          "ename": "AttributeError",
          "evalue": "ignored",
          "traceback": [
            "\u001b[0;31m---------------------------------------------------------------------------\u001b[0m",
            "\u001b[0;31mAttributeError\u001b[0m                            Traceback (most recent call last)",
            "\u001b[0;32m<ipython-input-30-70a4ef16e391>\u001b[0m in \u001b[0;36m<cell line: 3>\u001b[0;34m()\u001b[0m\n\u001b[1;32m      2\u001b[0m \u001b[0mb\u001b[0m\u001b[0;34m=\u001b[0m\u001b[0;34m{\u001b[0m\u001b[0;34m}\u001b[0m\u001b[0;34m\u001b[0m\u001b[0;34m\u001b[0m\u001b[0m\n\u001b[1;32m      3\u001b[0m \u001b[0;32mfor\u001b[0m \u001b[0mi\u001b[0m \u001b[0;32min\u001b[0m  \u001b[0ma\u001b[0m\u001b[0;34m:\u001b[0m\u001b[0;34m\u001b[0m\u001b[0;34m\u001b[0m\u001b[0m\n\u001b[0;32m----> 4\u001b[0;31m   \u001b[0;32mif\u001b[0m \u001b[0ma\u001b[0m\u001b[0;34m.\u001b[0m\u001b[0mkey\u001b[0m\u001b[0;34m(\u001b[0m\u001b[0;34m)\u001b[0m\u001b[0;34m:\u001b[0m\u001b[0;34m\u001b[0m\u001b[0;34m\u001b[0m\u001b[0m\n\u001b[0m\u001b[1;32m      5\u001b[0m     \u001b[0ma\u001b[0m\u001b[0;34m[\u001b[0m\u001b[0mi\u001b[0m\u001b[0;34m<\u001b[0m\u001b[0;36m1\u001b[0m\u001b[0;34m]\u001b[0m\u001b[0;34m,\u001b[0m\u001b[0ma\u001b[0m\u001b[0;34m[\u001b[0m\u001b[0mi\u001b[0m\u001b[0;34m+\u001b[0m\u001b[0;36m1\u001b[0m\u001b[0;34m]\u001b[0m\u001b[0;34m\u001b[0m\u001b[0;34m\u001b[0m\u001b[0m\n\u001b[1;32m      6\u001b[0m     \u001b[0mb\u001b[0m\u001b[0;34m.\u001b[0m\u001b[0mappend\u001b[0m\u001b[0;34m(\u001b[0m\u001b[0mi\u001b[0m\u001b[0;34m)\u001b[0m\u001b[0;34m\u001b[0m\u001b[0;34m\u001b[0m\u001b[0m\n",
            "\u001b[0;31mAttributeError\u001b[0m: 'dict' object has no attribute 'key'"
          ]
        }
      ]
    },
    {
      "cell_type": "code",
      "source": [
        "dict1 ={\"name\":\"ram\",\"age\":\"23\"}\n",
        "dict2 ={\"city\":\"salem\"}\n",
        "key = list(dict2.keys())\n",
        "value=list(dict2.values())\n",
        "print(key)\n",
        "dict1[key[0]]=value[0]"
      ],
      "metadata": {
        "colab": {
          "base_uri": "https://localhost:8080/"
        },
        "id": "Dzvd9FY2xnuq",
        "outputId": "543f8b17-90f9-475e-cd04-397dfcf1ba74"
      },
      "execution_count": null,
      "outputs": [
        {
          "output_type": "stream",
          "name": "stdout",
          "text": [
            "['city']\n"
          ]
        }
      ]
    },
    {
      "cell_type": "code",
      "source": [
        "dict1"
      ],
      "metadata": {
        "colab": {
          "base_uri": "https://localhost:8080/"
        },
        "id": "k2VqlkmOzgQ5",
        "outputId": "03d1c6b8-3dca-4900-88a6-77d8d24533c2"
      },
      "execution_count": null,
      "outputs": [
        {
          "output_type": "execute_result",
          "data": {
            "text/plain": [
              "{'name': 'ram', 'age': '23', 'city': 'salem'}"
            ]
          },
          "metadata": {},
          "execution_count": 41
        }
      ]
    },
    {
      "cell_type": "code",
      "source": [
        "dict1={1:2,3:4,4:3,2:1,0:0}\n",
        "dict2={}\n",
        "for i in sorted(dict1):\n",
        "  dict2[i]=dict1[i]"
      ],
      "metadata": {
        "id": "1m7dYf3f5xTw"
      },
      "execution_count": null,
      "outputs": []
    },
    {
      "cell_type": "code",
      "source": [
        "print(dict2)"
      ],
      "metadata": {
        "colab": {
          "base_uri": "https://localhost:8080/"
        },
        "id": "X9_Msnr3AxnA",
        "outputId": "f43470ee-0e7c-4d25-f2e0-b353cce6f67e"
      },
      "execution_count": null,
      "outputs": [
        {
          "output_type": "stream",
          "name": "stdout",
          "text": [
            "{0: 0, 1: 2, 2: 1, 3: 4, 4: 3}\n"
          ]
        }
      ]
    },
    {
      "cell_type": "code",
      "source": [
        "dict1={1:2,3:4,4:3,2:1,0:0}\n",
        "dict2=dict(sorted(dict1.items(),key=lambda x:x[1]))\n",
        "print(dict2)"
      ],
      "metadata": {
        "colab": {
          "base_uri": "https://localhost:8080/"
        },
        "id": "Plf1fGrjA3eu",
        "outputId": "8e24e933-1b9c-4af8-b6c4-cb71b00d0e0f"
      },
      "execution_count": null,
      "outputs": [
        {
          "output_type": "stream",
          "name": "stdout",
          "text": [
            "{0: 0, 2: 1, 1: 2, 4: 3, 3: 4}\n"
          ]
        }
      ]
    },
    {
      "cell_type": "code",
      "source": [
        "dict1={1:2,3:4,4:3,2:1,0:0}\n",
        "dict2=dict(sorted(dict1.items(),key=lambda x:x[1] , reverse = True))\n",
        "print(dict2)"
      ],
      "metadata": {
        "colab": {
          "base_uri": "https://localhost:8080/"
        },
        "id": "DQuympD1CsEr",
        "outputId": "42ee8183-5b51-427b-d824-6b83347c95c3"
      },
      "execution_count": null,
      "outputs": [
        {
          "output_type": "stream",
          "name": "stdout",
          "text": [
            "{3: 4, 4: 3, 1: 2, 2: 1, 0: 0}\n"
          ]
        }
      ]
    },
    {
      "cell_type": "code",
      "source": [
        "dict={\"name\":\"ram\",\"age\":23}\n",
        "dict1={\"city\":\"salem\",\"gender\":\"male\"}\n",
        "dict.update(dict1)\n",
        "print(dict)"
      ],
      "metadata": {
        "id": "qBdv7f7iEfaf",
        "colab": {
          "base_uri": "https://localhost:8080/"
        },
        "outputId": "6f956727-c3a5-4f8d-f34a-5031de88d035"
      },
      "execution_count": null,
      "outputs": [
        {
          "output_type": "stream",
          "name": "stdout",
          "text": [
            "{'name': 'ram', 'age': 23, 'city': 'salem', 'gender': 'male'}\n"
          ]
        }
      ]
    },
    {
      "cell_type": "code",
      "source": [
        "dict={'name':'ram','age':23}\n",
        "if 'name' in dict:\n",
        "  print('key is available in the dictionary')\n",
        "else:\n",
        "  print('key is not available in the dictionary')"
      ],
      "metadata": {
        "colab": {
          "base_uri": "https://localhost:8080/"
        },
        "id": "sGxdnYeBRL9Y",
        "outputId": "42ef1062-6328-4de6-ece6-6bbdfbbf8235"
      },
      "execution_count": null,
      "outputs": [
        {
          "output_type": "stream",
          "name": "stdout",
          "text": [
            "key is available in the dictionary\n"
          ]
        }
      ]
    },
    {
      "cell_type": "code",
      "source": [
        "dict={\"name\":\"ram\",\"age\": 23,\"city\":\"salem\",\"gende\":\"male\"}\n",
        "for i,j in dict.items():\n",
        "  print(i,': ',j)"
      ],
      "metadata": {
        "colab": {
          "base_uri": "https://localhost:8080/"
        },
        "id": "47fxJxWYriNv",
        "outputId": "463dc919-8519-4677-c896-94f85953f52b"
      },
      "execution_count": null,
      "outputs": [
        {
          "output_type": "stream",
          "name": "stdout",
          "text": [
            "name :  ram\n",
            "age :  23\n",
            "city :  salem\n",
            "gende :  male\n"
          ]
        }
      ]
    },
    {
      "cell_type": "code",
      "source": [
        "d = dict()\n",
        "n=5\n",
        "for i in range(1,n+1):\n",
        "  d[i]=i*i\n",
        "print(d)"
      ],
      "metadata": {
        "colab": {
          "base_uri": "https://localhost:8080/"
        },
        "id": "PanutfEKwDeJ",
        "outputId": "73e61dc2-1f6b-43c2-f74d-5b63de5717e4"
      },
      "execution_count": null,
      "outputs": [
        {
          "output_type": "stream",
          "name": "stdout",
          "text": [
            "{1: 1, 2: 4, 3: 9, 4: 16, 5: 25}\n"
          ]
        }
      ]
    },
    {
      "cell_type": "code",
      "source": [
        "d= dict()\n",
        "n=5\n",
        "for i in range(1,n+1):\n",
        "  d[i]=i**2\n",
        "print(d)"
      ],
      "metadata": {
        "colab": {
          "base_uri": "https://localhost:8080/"
        },
        "id": "83LBcuRxF3xD",
        "outputId": "f01d44ff-2c98-4b6b-8f83-db3ca6d6d432"
      },
      "execution_count": null,
      "outputs": [
        {
          "output_type": "stream",
          "name": "stdout",
          "text": [
            "{1: 1, 2: 4, 3: 9, 4: 16, 5: 25}\n"
          ]
        }
      ]
    },
    {
      "cell_type": "code",
      "source": [
        "dict1={\"name\":\"ram\",\"age\":23}\n",
        "dict2={\"city\":\"salem\",\"gender\":\"male\"}\n",
        "dict1.update(dict2)\n",
        "print(dict1)"
      ],
      "metadata": {
        "colab": {
          "base_uri": "https://localhost:8080/"
        },
        "id": "jKImnJ_UGwLw",
        "outputId": "0df3e537-a860-47fc-c0f2-0933a9e65876"
      },
      "execution_count": null,
      "outputs": [
        {
          "output_type": "stream",
          "name": "stdout",
          "text": [
            "{'name': 'ram', 'age': 23, 'city': 'salem', 'gender': 'male'}\n"
          ]
        }
      ]
    },
    {
      "cell_type": "code",
      "source": [
        "dict1={1:23,2:45,3:-17,4:87}\n",
        "print(sum(dict1.values()))"
      ],
      "metadata": {
        "colab": {
          "base_uri": "https://localhost:8080/"
        },
        "id": "jQ1HDzH-IQa-",
        "outputId": "1579a82a-1848-4afa-ee47-3b3a1d289323"
      },
      "execution_count": null,
      "outputs": [
        {
          "output_type": "stream",
          "name": "stdout",
          "text": [
            "138\n"
          ]
        }
      ]
    },
    {
      "cell_type": "code",
      "source": [
        "dict1={\"name\":\"pooja\",\"age\":23,\"gender\":\"female\",\"city\":\"salem\",\"marks\":488}\n",
        "print(dict1.keys())"
      ],
      "metadata": {
        "colab": {
          "base_uri": "https://localhost:8080/"
        },
        "id": "WZbqC6trJMvQ",
        "outputId": "7184c6b3-fe99-4d4f-c58b-27b10b0cd87c"
      },
      "execution_count": null,
      "outputs": [
        {
          "output_type": "stream",
          "name": "stdout",
          "text": [
            "dict_keys(['name', 'age', 'gender', 'city', 'marks'])\n"
          ]
        }
      ]
    },
    {
      "cell_type": "code",
      "source": [
        "dict1={'name':'pooja','age':23,'gender':None,'mark':488,'city':None}\n",
        "dict2={key:value for (key,value) in dict1.items() if value is not None}\n",
        "print(dict2)"
      ],
      "metadata": {
        "colab": {
          "base_uri": "https://localhost:8080/"
        },
        "id": "jpdX0ctSKNbM",
        "outputId": "b2731184-9c8f-43d5-dfcc-5516eb365cf6"
      },
      "execution_count": null,
      "outputs": [
        {
          "output_type": "stream",
          "name": "stdout",
          "text": [
            "{'name': 'pooja', 'age': 23, 'mark': 488}\n"
          ]
        }
      ]
    },
    {
      "cell_type": "code",
      "source": [
        "dict={\"sam\":{\"M1\":89,\"M2\":56,\"M3\":89},\"suresh\":{\"M1\":49,\"M2\":96,\"M3\":89}}\n",
        "for i in dict:\n",
        "  print(i)\n",
        "  for j in dict[i]:\n",
        "    print(j,\":\",dict[i][j])"
      ],
      "metadata": {
        "colab": {
          "base_uri": "https://localhost:8080/"
        },
        "id": "AVmXTukNOtfK",
        "outputId": "f3043b78-4937-40a8-aeec-18599d52269a"
      },
      "execution_count": null,
      "outputs": [
        {
          "output_type": "stream",
          "name": "stdout",
          "text": [
            "sam\n",
            "M1 : 89\n",
            "M2 : 56\n",
            "M3 : 89\n",
            "suresh\n",
            "M1 : 49\n",
            "M2 : 96\n",
            "M3 : 89\n"
          ]
        }
      ]
    },
    {
      "cell_type": "code",
      "source": [
        "dict={'A':[1,2,3,4,5,6,7,8,9,10],'Y':[11,12,13,14,15,16,17,18,19,20],'Z':[21,22,23,24,25,26,27,28,29,30]}\n",
        "for k,v in dict.items():\n",
        "  print(k,'=',v)"
      ],
      "metadata": {
        "id": "7jI4vGDxSlnF",
        "colab": {
          "base_uri": "https://localhost:8080/"
        },
        "outputId": "5e10baeb-b6e5-4456-b189-5a0ec1ec9e3d"
      },
      "execution_count": null,
      "outputs": [
        {
          "output_type": "stream",
          "name": "stdout",
          "text": [
            "A = [1, 2, 3, 4, 5, 6, 7, 8, 9, 10]\n",
            "Y = [11, 12, 13, 14, 15, 16, 17, 18, 19, 20]\n",
            "Z = [21, 22, 23, 24, 25, 26, 27, 28, 29, 30]\n"
          ]
        }
      ]
    },
    {
      "cell_type": "code",
      "source": [
        "A={'tamil':92,'english':56,'maths':88,'science':97,'social':89}\n",
        "B={'tamil':78,'english':68,'maths':88,'science':97,'social':55}\n",
        "for (key,value)in set(A.items()).intersection(B.items()):\n",
        " print('%s: %s is present in bot A and B'%(key,value ))"
      ],
      "metadata": {
        "colab": {
          "base_uri": "https://localhost:8080/"
        },
        "id": "Lf9SxHfhZEu0",
        "outputId": "fd310911-4335-4944-dbbc-e5d55797d5cb"
      },
      "execution_count": null,
      "outputs": [
        {
          "output_type": "stream",
          "name": "stdout",
          "text": [
            "science: 97 is present in bot A and B\n",
            "maths: 88 is present in bot A and B\n"
          ]
        }
      ]
    },
    {
      "cell_type": "code",
      "source": [
        "\n",
        "a={'tamil':92,'maths':88,'science':89,'social':89,'english':56}\n",
        "A=set(a.items())"
      ],
      "metadata": {
        "id": "sqYFGoyIvkTm"
      },
      "execution_count": null,
      "outputs": []
    },
    {
      "cell_type": "code",
      "source": [
        "b=(sorted(A),reverse == True)\n",
        "print(b)"
      ],
      "metadata": {
        "colab": {
          "base_uri": "https://localhost:8080/",
          "height": 192
        },
        "id": "M7H8aDec8os8",
        "outputId": "48b0f087-04e3-4eef-f276-65725c8b2564"
      },
      "execution_count": null,
      "outputs": [
        {
          "output_type": "error",
          "ename": "NameError",
          "evalue": "ignored",
          "traceback": [
            "\u001b[0;31m---------------------------------------------------------------------------\u001b[0m",
            "\u001b[0;31mNameError\u001b[0m                                 Traceback (most recent call last)",
            "\u001b[0;32m<ipython-input-19-45331477c0db>\u001b[0m in \u001b[0;36m<cell line: 1>\u001b[0;34m()\u001b[0m\n\u001b[0;32m----> 1\u001b[0;31m \u001b[0mb\u001b[0m\u001b[0;34m=\u001b[0m\u001b[0;34m(\u001b[0m\u001b[0msorted\u001b[0m\u001b[0;34m(\u001b[0m\u001b[0mA\u001b[0m\u001b[0;34m)\u001b[0m\u001b[0;34m,\u001b[0m\u001b[0mreverse\u001b[0m \u001b[0;34m==\u001b[0m \u001b[0;32mTrue\u001b[0m\u001b[0;34m)\u001b[0m\u001b[0;34m\u001b[0m\u001b[0;34m\u001b[0m\u001b[0m\n\u001b[0m\u001b[1;32m      2\u001b[0m \u001b[0mprint\u001b[0m\u001b[0;34m(\u001b[0m\u001b[0mb\u001b[0m\u001b[0;34m)\u001b[0m\u001b[0;34m\u001b[0m\u001b[0;34m\u001b[0m\u001b[0m\n",
            "\u001b[0;31mNameError\u001b[0m: name 'reverse' is not defined"
          ]
        }
      ]
    },
    {
      "cell_type": "code",
      "source": [
        "dict={'M1':[67,79,90,73,36],'M2':[89,67,84],'M3':[82,57]}\n",
        "total=sum(map(len,dict.values()))\n",
        "print(total)"
      ],
      "metadata": {
        "colab": {
          "base_uri": "https://localhost:8080/"
        },
        "id": "z6-OGAOeBjBt",
        "outputId": "49471c28-3a33-4c78-ae44-ebfc5e86a5ff"
      },
      "execution_count": null,
      "outputs": [
        {
          "output_type": "stream",
          "name": "stdout",
          "text": [
            "10\n"
          ]
        }
      ]
    },
    {
      "cell_type": "code",
      "source": [
        "dict={'name':'ram','age':32,'city':'salem'}\n",
        "print(dict.keys( )>={'age','name'})"
      ],
      "metadata": {
        "colab": {
          "base_uri": "https://localhost:8080/"
        },
        "id": "Sh1Pyo7wDDgN",
        "outputId": "8c8e7fd4-7220-4e12-a7f8-b21d734a7a28"
      },
      "execution_count": null,
      "outputs": [
        {
          "output_type": "stream",
          "name": "stdout",
          "text": [
            "True\n"
          ]
        }
      ]
    },
    {
      "cell_type": "code",
      "source": [
        "print(dict.keys()>={'city','salem'})\n",
        "print(dict.keys()>={'city','ram'})"
      ],
      "metadata": {
        "colab": {
          "base_uri": "https://localhost:8080/"
        },
        "id": "l_DSZmruEahl",
        "outputId": "2303e7fe-54dd-4aef-9384-c998be7e1e5d"
      },
      "execution_count": null,
      "outputs": [
        {
          "output_type": "stream",
          "name": "stdout",
          "text": [
            "False\n",
            "False\n"
          ]
        }
      ]
    },
    {
      "cell_type": "code",
      "source": [
        "quit()"
      ],
      "metadata": {
        "id": "BTZKTUYoJMdC"
      },
      "execution_count": null,
      "outputs": []
    },
    {
      "cell_type": "code",
      "source": [
        "keys=[\"one\",\"two\",\"three\",\"four\",\"five\"]\n",
        "values=[1,2,3,4,5]\n",
        "for i,j in zip(keys,values):\n",
        "  x= dict(zip(keys,values))\n",
        "print(x)"
      ],
      "metadata": {
        "colab": {
          "base_uri": "https://localhost:8080/"
        },
        "id": "fopxKKfkJjd-",
        "outputId": "a2b408a6-aee2-4ceb-e1b5-173b1983b980"
      },
      "execution_count": null,
      "outputs": [
        {
          "output_type": "stream",
          "name": "stdout",
          "text": [
            "{'one': 1, 'two': 2, 'three': 3, 'four': 4, 'five': 5}\n"
          ]
        }
      ]
    },
    {
      "cell_type": "code",
      "source": [
        "x={\"name\":\"ram\",\"age\":25,\"city\":\"salem\"}\n",
        "y={\"gender\":\"male\",\"mark\":422,\"percent\":84.4}\n",
        "for i,j in zip(x.items(),y.items()):\n",
        " result= dict(x.items()|y.items())\n",
        "print(result)"
      ],
      "metadata": {
        "colab": {
          "base_uri": "https://localhost:8080/"
        },
        "id": "egfyQcTBJnSU",
        "outputId": "22f73550-5c05-4c2a-d811-e5c1a0d54c36"
      },
      "execution_count": null,
      "outputs": [
        {
          "output_type": "stream",
          "name": "stdout",
          "text": [
            "{'gender': 'male', 'name': 'ram', 'mark': 422, 'city': 'salem', 'age': 25, 'percent': 84.4}\n"
          ]
        }
      ]
    },
    {
      "cell_type": "code",
      "source": [
        "a=[\"siva\",\"sam\"]\n",
        "b={\"designation\":\"student\",\"department\":\"BCA\"}\n",
        "result=dict.fromkeys(a,b)\n",
        "print(result )"
      ],
      "metadata": {
        "id": "DlBZzGwGLkqn",
        "colab": {
          "base_uri": "https://localhost:8080/"
        },
        "outputId": "ee5715e2-a797-431d-b0f5-18fbf3d62913"
      },
      "execution_count": null,
      "outputs": [
        {
          "output_type": "stream",
          "name": "stdout",
          "text": [
            "{'siva': {'designation': 'student', 'department': 'BCA'}, 'sam': {'designation': 'student', 'department': 'BCA'}}\n"
          ]
        }
      ]
    },
    {
      "cell_type": "code",
      "source": [
        "dict={'name':'ram','age':23,'city':'salem','gender':'male','mark':450}\n",
        "dict.pop('gender','city')\n",
        "print(dict)"
      ],
      "metadata": {
        "colab": {
          "base_uri": "https://localhost:8080/"
        },
        "id": "BNqFavgfxdkL",
        "outputId": "92853e93-9b2d-4306-ab68-e80a132219ce"
      },
      "execution_count": null,
      "outputs": [
        {
          "output_type": "stream",
          "name": "stdout",
          "text": [
            "{'name': 'ram', 'age': 23, 'city': 'salem', 'mark': 450}\n"
          ]
        }
      ]
    },
    {
      "cell_type": "code",
      "source": [
        "a={'name':'tara','rollno':130046,'mark':458,'age':16}\n",
        "a['mark10']=a.pop('mark')\n",
        "a['regno']=a.pop('rollno')\n",
        "print(a)"
      ],
      "metadata": {
        "colab": {
          "base_uri": "https://localhost:8080/"
        },
        "id": "jt-ZXSJb2AbT",
        "outputId": "1180a2fe-4b88-4cf3-d1cc-ad0af8f30ec9"
      },
      "execution_count": null,
      "outputs": [
        {
          "output_type": "stream",
          "name": "stdout",
          "text": [
            "{'name': 'tara', 'age': 16, 'mark10': 458, 'regno': 130046}\n"
          ]
        }
      ]
    },
    {
      "cell_type": "code",
      "source": [
        "b=\"tutor joe's computer education\""
      ],
      "metadata": {
        "id": "Fsd0p83r3ibp"
      },
      "execution_count": null,
      "outputs": []
    },
    {
      "cell_type": "code",
      "source": [
        "dict={\"computer\":\"software\",\"education\":\"solution\"}\n",
        "a=b.split()\n",
        "res=[]\n",
        "for i in a:\n",
        "  res.append(dict.get(i,i))\n",
        "res=' '.join(res)\n",
        "print(res)"
      ],
      "metadata": {
        "id": "hxTJ1o2A4joW",
        "colab": {
          "base_uri": "https://localhost:8080/"
        },
        "outputId": "9c88638c-99ac-41d3-89f9-13386fdffafb"
      },
      "execution_count": null,
      "outputs": [
        {
          "output_type": "stream",
          "name": "stdout",
          "text": [
            "tutor joe's software solution\n"
          ]
        }
      ]
    },
    {
      "cell_type": "code",
      "source": [
        "dictionary={\"name\":\"tara\",\"rollno\":130046,\"mark\":450,\"age\":16,\"gender\":\"female\",\"city\":\"salem\"}\n",
        "print(dictionary.keys())"
      ],
      "metadata": {
        "colab": {
          "base_uri": "https://localhost:8080/"
        },
        "id": "PgS4pLyC62t9",
        "outputId": "ec92c468-be94-48e5-c116-b0ddde1c20ac"
      },
      "execution_count": null,
      "outputs": [
        {
          "output_type": "stream",
          "name": "stdout",
          "text": [
            "dict_keys(['name', 'rollno', 'mark', 'age', 'gender', 'city'])\n"
          ]
        }
      ]
    },
    {
      "cell_type": "code",
      "source": [
        "for k in dictionary.keys():\n",
        "  print(\" \",k)"
      ],
      "metadata": {
        "colab": {
          "base_uri": "https://localhost:8080/"
        },
        "id": "-MOKEcr172HB",
        "outputId": "e33d42a5-be4d-44cd-a6d7-0a193e575f15"
      },
      "execution_count": null,
      "outputs": [
        {
          "output_type": "stream",
          "name": "stdout",
          "text": [
            "  name\n",
            "  rollno\n",
            "  mark\n",
            "  age\n",
            "  gender\n",
            "  city\n"
          ]
        }
      ]
    },
    {
      "cell_type": "code",
      "source": [
        "for i in dictionary.values():\n",
        "  print(\" \",i)"
      ],
      "metadata": {
        "colab": {
          "base_uri": "https://localhost:8080/"
        },
        "id": "PQbzjvVi8RKF",
        "outputId": "fd5ad4fd-78f0-4edd-f370-cf91a534ca81"
      },
      "execution_count": null,
      "outputs": [
        {
          "output_type": "stream",
          "name": "stdout",
          "text": [
            "  tara\n",
            "  130046\n",
            "  450\n",
            "  16\n",
            "  female\n",
            "  salem\n"
          ]
        }
      ]
    },
    {
      "cell_type": "code",
      "source": [
        "quit()"
      ],
      "metadata": {
        "id": "aTSYlTWe-8zT"
      },
      "execution_count": null,
      "outputs": []
    },
    {
      "cell_type": "code",
      "source": [
        "quit()"
      ],
      "metadata": {
        "id": "xNu8aISa8snQ"
      },
      "execution_count": null,
      "outputs": []
    },
    {
      "cell_type": "code",
      "source": [
        "d={\"m1\":78,\"m2\":89,\"m3\":64,\"m4\":35,\"m5\":71}\n",
        "d1=sorted(d.items(),key=lambda x:x[1])\n",
        "print(d1)\n"
      ],
      "metadata": {
        "colab": {
          "base_uri": "https://localhost:8080/"
        },
        "id": "jq1WN5XhnXjK",
        "outputId": "6332f794-1d96-43af-9a98-f3124ce1cabe"
      },
      "execution_count": null,
      "outputs": [
        {
          "output_type": "stream",
          "name": "stdout",
          "text": [
            "[('m4', 35), ('m3', 64), ('m5', 71), ('m1', 78), ('m2', 89)]\n"
          ]
        }
      ]
    },
    {
      "cell_type": "code",
      "source": [
        "dict1={\"m1\":78,\"m2\":89,\"m3\":64,\"m4\":35,\"m5\":71}\n",
        "v=dict1.values( )\n",
        "max=max(v)\n",
        "min=min(v)\n",
        "print(max)\n",
        "print(min)"
      ],
      "metadata": {
        "colab": {
          "base_uri": "https://localhost:8080/"
        },
        "id": "7jEEhb60-4S_",
        "outputId": "6e2e75d5-9f01-4c21-80a8-5c68a3029ead"
      },
      "execution_count": null,
      "outputs": [
        {
          "output_type": "stream",
          "name": "stdout",
          "text": [
            "89\n",
            "35\n"
          ]
        }
      ]
    },
    {
      "cell_type": "code",
      "source": [
        "dict1={\"m1\":78,\"m2\":89,\"m3\":64,\"m4\":35,\"m5\":71}\n",
        "print(sum(dict1.values()))"
      ],
      "metadata": {
        "colab": {
          "base_uri": "https://localhost:8080/"
        },
        "id": "V8VIuKoX_8uE",
        "outputId": "819b6ed1-786f-4d2d-8914-317d359a3ddd"
      },
      "execution_count": null,
      "outputs": [
        {
          "output_type": "stream",
          "name": "stdout",
          "text": [
            "337\n"
          ]
        }
      ]
    },
    {
      "cell_type": "code",
      "source": [
        "a=[1,2,3]\n",
        "b=[]\n",
        "for i in a:\n",
        "  for j in a:\n",
        "    for k in a:\n",
        "      if i != j and j != k and k != i:\n",
        "        b.append((i,j,k))\n",
        "print(b)\n",
        "for z in b:\n",
        "  print(z[0], z[1], z[2])"
      ],
      "metadata": {
        "colab": {
          "base_uri": "https://localhost:8080/"
        },
        "id": "Fq60IkcipqNP",
        "outputId": "c142e38b-cc54-4688-a6d7-308766704fb9"
      },
      "execution_count": null,
      "outputs": [
        {
          "output_type": "stream",
          "name": "stdout",
          "text": [
            "[(1, 2, 3), (1, 3, 2), (2, 1, 3), (2, 3, 1), (3, 1, 2), (3, 2, 1)]\n",
            "1 2 3\n",
            "1 3 2\n",
            "2 1 3\n",
            "2 3 1\n",
            "3 1 2\n",
            "3 2 1\n"
          ]
        }
      ]
    },
    {
      "cell_type": "code",
      "source": [
        "# [18] flattern a shallow list\n",
        "a=[[20,30,70],[30,90,10],[30,20],[70,90,10,80]]\n",
        "b=[ ]\n",
        "for i in a:\n",
        "  for j in i:\n",
        "    b.append(j)\n",
        "print(b)"
      ],
      "metadata": {
        "colab": {
          "base_uri": "https://localhost:8080/"
        },
        "id": "s1qhFLgfq9Ww",
        "outputId": "7d0273cc-d410-4f5e-ee1a-ac4fea079160"
      },
      "execution_count": null,
      "outputs": [
        {
          "output_type": "stream",
          "name": "stdout",
          "text": [
            "[20, 30, 70, 30, 90, 10, 30, 20, 70, 90, 10, 80]\n"
          ]
        }
      ]
    },
    {
      "cell_type": "code",
      "source": [],
      "metadata": {
        "id": "EUWr6rHM9u7d"
      },
      "execution_count": null,
      "outputs": []
    },
    {
      "cell_type": "code",
      "source": [
        "# [25] frequency of the elements in a list\n",
        "from collections import Counter\n",
        "a=[10, 30, 50, 10, 20, 60, 20, 60, 40, 40, 50, 50, 30]\n",
        "y=Counter(a)\n",
        "print(y)"
      ],
      "metadata": {
        "colab": {
          "base_uri": "https://localhost:8080/"
        },
        "id": "DwpsnAtO5APp",
        "outputId": "e1687fc6-212e-44ae-91e9-d9bb237575cf"
      },
      "execution_count": null,
      "outputs": [
        {
          "output_type": "stream",
          "name": "stdout",
          "text": [
            "Counter({50: 3, 10: 2, 30: 2, 20: 2, 60: 2, 40: 2})\n"
          ]
        }
      ]
    },
    {
      "cell_type": "code",
      "source": [
        "#[40] to remove all the occurances of an elememnt from a list\n",
        "a=[1,3,4,6,5,1]\n",
        "b=1\n",
        "a=[x for x in a if x!=b]"
      ],
      "metadata": {
        "id": "lS38eQZE-Xqg"
      },
      "execution_count": null,
      "outputs": []
    },
    {
      "cell_type": "code",
      "source": [
        "print(a)"
      ],
      "metadata": {
        "colab": {
          "base_uri": "https://localhost:8080/"
        },
        "id": "rW37PsTrb__G",
        "outputId": "95b477fa-7ebf-4161-de41-c8585d810894"
      },
      "execution_count": null,
      "outputs": [
        {
          "output_type": "stream",
          "name": "stdout",
          "text": [
            "[3, 4, 6, 5]\n"
          ]
        }
      ]
    },
    {
      "cell_type": "code",
      "source": [
        "quit()"
      ],
      "metadata": {
        "id": "lTokZ_SqhhaV"
      },
      "execution_count": null,
      "outputs": []
    },
    {
      "cell_type": "code",
      "source": [
        "#[41] to remove cosecutive elements\n",
        "a=[('A','B','C','D'),('B','C','C','I'),('H','D','B','C'),('C','C','G','F')]\n",
        "k='c'\n",
        "for i in a:\n",
        "  for j in i:\n",
        "   res=[ i for i in a if not any (i[j]==k and i[j+1]==k for j in range(len(i)-1))]\n",
        "print(res)"
      ],
      "metadata": {
        "colab": {
          "base_uri": "https://localhost:8080/"
        },
        "id": "HjMV4nEEcCBT",
        "outputId": "3738e285-d03e-4907-8688-f27f7c0a249a"
      },
      "execution_count": null,
      "outputs": [
        {
          "output_type": "stream",
          "name": "stdout",
          "text": [
            "[('A', 'B', 'C', 'D'), ('B', 'C', 'C', 'I'), ('H', 'D', 'B', 'C'), ('C', 'C', 'G', 'F')]\n"
          ]
        }
      ]
    },
    {
      "cell_type": "code",
      "source": [
        "#[42] to replace index elements with elements in other list\n",
        "a=['tutor joes','computer','education']\n",
        "b=[2,1,0,1,0,2,2,0,1,0,1,2]\n",
        "for i in a:\n",
        "  for i in b:\n",
        "   res=[a[i] for i in b]\n",
        "print(res)"
      ],
      "metadata": {
        "colab": {
          "base_uri": "https://localhost:8080/"
        },
        "id": "0SDGMdt4g5_X",
        "outputId": "ad066138-2d1b-499b-fd89-a2cd1c148965"
      },
      "execution_count": null,
      "outputs": [
        {
          "output_type": "stream",
          "name": "stdout",
          "text": [
            "['education', 'computer', 'tutor joes', 'computer', 'tutor joes', 'education', 'education', 'tutor joes', 'computer', 'tutor joes', 'computer', 'education']\n"
          ]
        }
      ]
    },
    {
      "cell_type": "code",
      "source": [
        "#[43] to retain records with n occurences of k\n",
        "a=[(4,5,6,5,4),(4,5,3),(5,5,2),(3,4,)]\n",
        "k= 5\n",
        "n= 2\n",
        "res=[i for i in a if i.count(k)==n]\n",
        "print(res)"
      ],
      "metadata": {
        "colab": {
          "base_uri": "https://localhost:8080/"
        },
        "id": "X2rGAzZ_jpJY",
        "outputId": "8469d0c4-5e1b-47ca-9555-709a0faa0bec"
      },
      "execution_count": null,
      "outputs": [
        {
          "output_type": "stream",
          "name": "stdout",
          "text": [
            "[(4, 5, 6, 5, 4), (5, 5, 2)]\n"
          ]
        }
      ]
    },
    {
      "cell_type": "code",
      "source": [
        "#[44] to swap elements in a list\n",
        "a=['tutor','joes','computer','education']\n",
        "for i in a:\n",
        " res=[i.replace(\"joes\",\"joe's\")]\n",
        " res=[i.replace(\"computer\",\"software\")]\n",
        " res=[i.replace(\"education\",\"solutions\")]\n",
        " print(res)\n"
      ],
      "metadata": {
        "colab": {
          "base_uri": "https://localhost:8080/"
        },
        "id": "bFdvHKgZpUGf",
        "outputId": "7c2646e6-d668-499e-9048-2790a69d4568"
      },
      "execution_count": null,
      "outputs": [
        {
          "output_type": "stream",
          "name": "stdout",
          "text": [
            "['tutor']\n",
            "['joes']\n",
            "['computer']\n",
            "['solutions']\n"
          ]
        }
      ]
    },
    {
      "cell_type": "code",
      "source": [
        "#[45] to reverse all strings in the list\n",
        "l1=['tutor','joes','computer','education']\n",
        "b= [i[::-1] for i in l1]"
      ],
      "metadata": {
        "id": "pL9L98zVrzJu"
      },
      "execution_count": null,
      "outputs": []
    },
    {
      "cell_type": "code",
      "source": [
        "print(b)"
      ],
      "metadata": {
        "colab": {
          "base_uri": "https://localhost:8080/"
        },
        "id": "dAyARNrDuuLD",
        "outputId": "b0d46352-2670-4e0b-e8b4-1fbc37eeda44"
      },
      "execution_count": null,
      "outputs": [
        {
          "output_type": "stream",
          "name": "stdout",
          "text": [
            "['rotut', 'seoj', 'retupmoc', 'noitacude']\n"
          ]
        }
      ]
    },
    {
      "cell_type": "code",
      "source": [
        "l1[::-1]"
      ],
      "metadata": {
        "colab": {
          "base_uri": "https://localhost:8080/"
        },
        "id": "77CQ0J4wvLhz",
        "outputId": "b072bb0a-256d-44de-ec76-599406c70a82"
      },
      "execution_count": null,
      "outputs": [
        {
          "output_type": "execute_result",
          "data": {
            "text/plain": [
              "['education', 'computer', 'joes', 'tutor']"
            ]
          },
          "metadata": {},
          "execution_count": 60
        }
      ]
    },
    {
      "cell_type": "code",
      "source": [
        "#[46] to find the character position of kth word from  a list of strings\n",
        "b=['tutor','joes','computer','education']\n",
        "k=20\n",
        "for i in enumerate(b):\n",
        "  c= list(b)\n",
        "print(c)"
      ],
      "metadata": {
        "colab": {
          "base_uri": "https://localhost:8080/"
        },
        "id": "oaZ_6gAcvPDw",
        "outputId": "17c437f2-4b0d-46ef-c11e-ce92ca73fcd8"
      },
      "execution_count": null,
      "outputs": [
        {
          "output_type": "stream",
          "name": "stdout",
          "text": [
            "['tutor', 'joes', 'computer', 'education']\n"
          ]
        }
      ]
    },
    {
      "cell_type": "code",
      "source": [
        "''.join(c)"
      ],
      "metadata": {
        "colab": {
          "base_uri": "https://localhost:8080/",
          "height": 36
        },
        "id": "w4wDFeklwl6E",
        "outputId": "7957ed9d-08d2-411a-bf0e-1b28a34580fe"
      },
      "execution_count": null,
      "outputs": [
        {
          "output_type": "execute_result",
          "data": {
            "text/plain": [
              "'tutorjoescomputereducation'"
            ],
            "application/vnd.google.colaboratory.intrinsic+json": {
              "type": "string"
            }
          },
          "metadata": {},
          "execution_count": 68
        }
      ]
    },
    {
      "cell_type": "code",
      "source": [
        "c[k]"
      ],
      "metadata": {
        "colab": {
          "base_uri": "https://localhost:8080/",
          "height": 175
        },
        "id": "eGmUsZx9yBQX",
        "outputId": "2b64c562-af47-46b4-93d8-403ce48a1ff1"
      },
      "execution_count": null,
      "outputs": [
        {
          "output_type": "error",
          "ename": "IndexError",
          "evalue": "ignored",
          "traceback": [
            "\u001b[0;31m---------------------------------------------------------------------------\u001b[0m",
            "\u001b[0;31mIndexError\u001b[0m                                Traceback (most recent call last)",
            "\u001b[0;32m<ipython-input-69-27370c7fa3af>\u001b[0m in \u001b[0;36m<cell line: 1>\u001b[0;34m()\u001b[0m\n\u001b[0;32m----> 1\u001b[0;31m \u001b[0mc\u001b[0m\u001b[0;34m[\u001b[0m\u001b[0mk\u001b[0m\u001b[0;34m]\u001b[0m\u001b[0;34m\u001b[0m\u001b[0;34m\u001b[0m\u001b[0m\n\u001b[0m",
            "\u001b[0;31mIndexError\u001b[0m: list index out of range"
          ]
        }
      ]
    },
    {
      "cell_type": "code",
      "source": [
        "#[47] to prefix frequency in string list\n",
        "b=['tjc','tjcpp','tjpython','java']\n",
        "k='tj'\n",
        "count=0\n",
        "for i in b:\n",
        "  if i.startswith(k):\n",
        "    count=count+1\n",
        "print(count)"
      ],
      "metadata": {
        "colab": {
          "base_uri": "https://localhost:8080/"
        },
        "id": "iM7TWL9UyKh-",
        "outputId": "3600a4b1-7b35-4bff-b649-caf057c8e4df"
      },
      "execution_count": null,
      "outputs": [
        {
          "output_type": "stream",
          "name": "stdout",
          "text": [
            "3\n"
          ]
        }
      ]
    },
    {
      "cell_type": "code",
      "source": [
        "quit()"
      ],
      "metadata": {
        "id": "7ls6ZydP05Re"
      },
      "execution_count": null,
      "outputs": []
    },
    {
      "cell_type": "code",
      "source": [
        "#[48] to split strings on prefix occurence\n",
        "b=['tjc','tjcpp','tjpython','java','tj']\n",
        "k='tj'\n",
        "res=[]\n",
        "for i in b:\n",
        "  if i.startswith(k):\n",
        "    res.append(i)\n",
        "print(str(res))"
      ],
      "metadata": {
        "colab": {
          "base_uri": "https://localhost:8080/"
        },
        "id": "UWTzRVbhzZ-n",
        "outputId": "28946d83-6486-4195-8124-2ebda38c02ab"
      },
      "execution_count": null,
      "outputs": [
        {
          "output_type": "stream",
          "name": "stdout",
          "text": [
            "['tjc', 'tjcpp', 'tjpython', 'tj']\n"
          ]
        }
      ]
    },
    {
      "cell_type": "code",
      "source": [
        "#[49] to replace all characters of a list expect given character\n",
        "a=['p','y','t','h','o','n']\n",
        "b=[i if i=='t'else '@'for i in a]\n",
        "print(b)"
      ],
      "metadata": {
        "colab": {
          "base_uri": "https://localhost:8080/"
        },
        "id": "y3NeYeqk0zv2",
        "outputId": "e823334e-5c54-4cc5-e0e3-f224fbf0a9c5"
      },
      "execution_count": null,
      "outputs": [
        {
          "output_type": "stream",
          "name": "stdout",
          "text": [
            "['@', '@', 't', '@', '@', '@']\n"
          ]
        }
      ]
    },
    {
      "cell_type": "code",
      "source": [
        "#[50] to add space between potential words\n",
        "a=['tutorjoes','computereducations']\n",
        "\" \".join(a)"
      ],
      "metadata": {
        "colab": {
          "base_uri": "https://localhost:8080/",
          "height": 36
        },
        "id": "LVrpI83b3Orq",
        "outputId": "1df81d29-2075-49ab-895a-68f1e7414b67"
      },
      "execution_count": null,
      "outputs": [
        {
          "output_type": "execute_result",
          "data": {
            "text/plain": [
              "'tutorjoes computereducations'"
            ],
            "application/vnd.google.colaboratory.intrinsic+json": {
              "type": "string"
            }
          },
          "metadata": {},
          "execution_count": 24
        }
      ]
    },
    {
      "cell_type": "code",
      "source": [
        "a=[1,7,-10,34,2,-8]\n",
        "sum=0\n",
        "for i in a:\n",
        "  sum=sum+i\n",
        "  print(sum)"
      ],
      "metadata": {
        "id": "Yx0CEdK56itr",
        "colab": {
          "base_uri": "https://localhost:8080/"
        },
        "outputId": "4a4ea86c-ea26-405f-96d8-36462db762a2"
      },
      "execution_count": null,
      "outputs": [
        {
          "output_type": "stream",
          "name": "stdout",
          "text": [
            "1\n",
            "8\n",
            "-2\n",
            "32\n",
            "34\n",
            "26\n"
          ]
        }
      ]
    },
    {
      "cell_type": "code",
      "source": [],
      "metadata": {
        "id": "BZQ2KP7Gybe2"
      },
      "execution_count": null,
      "outputs": []
    }
  ]
}